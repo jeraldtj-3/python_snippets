{
 "cells": [
  {
   "cell_type": "code",
   "execution_count": 25,
   "source": [
    "import pymongo"
   ],
   "outputs": [],
   "metadata": {}
  },
  {
   "cell_type": "markdown",
   "source": [
    "## Creating the connection"
   ],
   "metadata": {}
  },
  {
   "cell_type": "code",
   "execution_count": 26,
   "source": [
    "client_cloud = pymongo.MongoClient(\"\")\n",
    "client_cloud "
   ],
   "outputs": [
    {
     "output_type": "execute_result",
     "data": {
      "text/plain": [
       "MongoClient(host=['mymongocluster0-shard-00-00.50qf7.mongodb.net:27017', 'mymongocluster0-shard-00-01.50qf7.mongodb.net:27017', 'mymongocluster0-shard-00-02.50qf7.mongodb.net:27017'], document_class=dict, tz_aware=False, connect=True, retrywrites=True, w='majority', authsource='admin', replicaset='atlas-dcf3l5-shard-0', ssl=True)"
      ]
     },
     "metadata": {},
     "execution_count": 26
    }
   ],
   "metadata": {}
  },
  {
   "cell_type": "code",
   "execution_count": 29,
   "source": [
    "client_local = pymongo.MongoClient(\"mongodb://localhost:27017\")\n",
    "client_local"
   ],
   "outputs": [
    {
     "output_type": "execute_result",
     "data": {
      "text/plain": [
       "MongoClient(host=['localhost:27017'], document_class=dict, tz_aware=False, connect=True)"
      ]
     },
     "metadata": {},
     "execution_count": 29
    }
   ],
   "metadata": {}
  },
  {
   "cell_type": "markdown",
   "source": [
    "## Creating database"
   ],
   "metadata": {}
  },
  {
   "cell_type": "code",
   "execution_count": 31,
   "source": [
    "client_db1 = client_cloud['mydb'] "
   ],
   "outputs": [],
   "metadata": {}
  },
  {
   "cell_type": "markdown",
   "source": [
    "## Getting database names "
   ],
   "metadata": {}
  },
  {
   "cell_type": "code",
   "execution_count": 28,
   "source": [
    "client_cloud.list_database_names()"
   ],
   "outputs": [
    {
     "output_type": "execute_result",
     "data": {
      "text/plain": [
       "['admin', 'local']"
      ]
     },
     "metadata": {},
     "execution_count": 28
    }
   ],
   "metadata": {}
  },
  {
   "cell_type": "code",
   "execution_count": 30,
   "source": [
    "client_local.list_database_names()"
   ],
   "outputs": [
    {
     "output_type": "execute_result",
     "data": {
      "text/plain": [
       "['admin', 'config', 'local', 'mydb1']"
      ]
     },
     "metadata": {},
     "execution_count": 30
    }
   ],
   "metadata": {}
  },
  {
   "cell_type": "markdown",
   "source": [
    "## adding a collection "
   ],
   "metadata": {}
  },
  {
   "cell_type": "code",
   "execution_count": 32,
   "source": [
    "# adding collection \n",
    "collection = client_db1[\"company\"]"
   ],
   "outputs": [],
   "metadata": {}
  },
  {
   "cell_type": "markdown",
   "source": [
    "## Inserting records"
   ],
   "metadata": {}
  },
  {
   "cell_type": "code",
   "execution_count": 33,
   "source": [
    "record = {\n",
    "    \"companyName\" :\"ineuron\",\n",
    "    \"product\" :\"visual detector\",\n",
    "    \"courses_offered\":['data science', 'statistics']\n",
    "}\n",
    "collection.insert_one(record)"
   ],
   "outputs": [
    {
     "output_type": "execute_result",
     "data": {
      "text/plain": [
       "<pymongo.results.InsertOneResult at 0x7fe230454d00>"
      ]
     },
     "metadata": {},
     "execution_count": 33
    }
   ],
   "metadata": {}
  },
  {
   "cell_type": "code",
   "execution_count": 34,
   "source": [
    "record = {\n",
    "    \"companyName\" :\"tocco\",\n",
    "    \"product\" :\"plotly\",\n",
    "    \"courses_offered\":['mathematics', 'artificial intelligence'],\n",
    "    \"rating\": 5.3,\n",
    "    \"contact\":{\n",
    "            \"email\":'tocco@gmail.com',\n",
    "            'phone no ': 242394283840242\n",
    "            }\n",
    "}\n",
    "collection.insert_one(record)"
   ],
   "outputs": [
    {
     "output_type": "execute_result",
     "data": {
      "text/plain": [
       "<pymongo.results.InsertOneResult at 0x7fe228360b00>"
      ]
     },
     "metadata": {},
     "execution_count": 34
    }
   ],
   "metadata": {}
  },
  {
   "cell_type": "code",
   "execution_count": 55,
   "source": [
    "# new collection : student \n",
    "st_collection = client_db1[\"student\"] "
   ],
   "outputs": [],
   "metadata": {}
  },
  {
   "cell_type": "code",
   "execution_count": 56,
   "source": [
    "st_collection.insert_one({\n",
    "     \"name\" : \"thomas\", \n",
    "     \"major\" : \"Data science\" , \n",
    "     \"phone_number\": 9562348638, \n",
    "     \"gpa\" : 9.12\n",
    "     })"
   ],
   "outputs": [
    {
     "output_type": "execute_result",
     "data": {
      "text/plain": [
       "<pymongo.results.InsertOneResult at 0x7fe1e83b52c0>"
      ]
     },
     "metadata": {},
     "execution_count": 56
    }
   ],
   "metadata": {}
  },
  {
   "cell_type": "code",
   "execution_count": 57,
   "source": [
    "st_collection.insert_one({\n",
    "    \"name\":\"CLaire\", \n",
    "    \"major\" : \"Machine learning\", \n",
    "    \"gpa\" : 9.49\n",
    "})"
   ],
   "outputs": [
    {
     "output_type": "execute_result",
     "data": {
      "text/plain": [
       "<pymongo.results.InsertOneResult at 0x7fe1e8427100>"
      ]
     },
     "metadata": {},
     "execution_count": 57
    }
   ],
   "metadata": {}
  },
  {
   "cell_type": "code",
   "execution_count": 58,
   "source": [
    "st_collection.insert_one({\n",
    "    \"name\" : 'Maria', \n",
    "    \"gpa\" : 8.43, \n",
    "    \"awards\" : [\"hackathone\", \"basel jhons\", \"summa cum laude\"], \n",
    "     })"
   ],
   "outputs": [
    {
     "output_type": "execute_result",
     "data": {
      "text/plain": [
       "<pymongo.results.InsertOneResult at 0x7fe1e8397280>"
      ]
     },
     "metadata": {},
     "execution_count": 58
    }
   ],
   "metadata": {}
  },
  {
   "cell_type": "code",
   "execution_count": 59,
   "source": [
    "st_collection.insert_one({ \"_id\" : 4, \n",
    "    \"name\" : 'martin',  \"gpa\" : 9.45,  \n",
    "    \"email\" : \"marting23@gmail.com\",  \n",
    "    \"marks\": [23,1,2,13,324,53] \n",
    "})"
   ],
   "outputs": [
    {
     "output_type": "execute_result",
     "data": {
      "text/plain": [
       "<pymongo.results.InsertOneResult at 0x7fe1e8433980>"
      ]
     },
     "metadata": {},
     "execution_count": 59
    }
   ],
   "metadata": {}
  },
  {
   "cell_type": "code",
   "execution_count": 60,
   "source": [
    "st_collection.insert_one({ \n",
    "    \"name\":\"Antony\", \n",
    "    \"major\" : \"Analytics\", \n",
    "    \"gpa\" : 8.49,\n",
    "    \"awards\" : [\"hackathone\",\"Summa cum laude\"]\n",
    "})"
   ],
   "outputs": [
    {
     "output_type": "execute_result",
     "data": {
      "text/plain": [
       "<pymongo.results.InsertOneResult at 0x7fe228306d40>"
      ]
     },
     "metadata": {},
     "execution_count": 60
    }
   ],
   "metadata": {}
  },
  {
   "cell_type": "code",
   "execution_count": 61,
   "source": [
    "st_collection.insert_one({\n",
    "    \"name\":\"Kate\", \n",
    "    \"major\" : \"Sociology\", \n",
    "    \"gpa\" : 8.49,\n",
    "    \"contact\" :{\"phone\":\"9562348628\", \"email\":\"kateste123@gmail.com\"}, \n",
    "\n",
    "})"
   ],
   "outputs": [
    {
     "output_type": "execute_result",
     "data": {
      "text/plain": [
       "<pymongo.results.InsertOneResult at 0x7fe1e83979c0>"
      ]
     },
     "metadata": {},
     "execution_count": 61
    }
   ],
   "metadata": {}
  },
  {
   "cell_type": "code",
   "execution_count": 62,
   "source": [
    "st_collection.insert_one({\n",
    "    \"name\" : \"phill\", \n",
    "    \"age\" :23, \n",
    "    \"gpa\" : 8.53, \n",
    "    \"startdate\" : \"2021-08-12\" \n",
    "})"
   ],
   "outputs": [
    {
     "output_type": "execute_result",
     "data": {
      "text/plain": [
       "<pymongo.results.InsertOneResult at 0x7fe1e83216c0>"
      ]
     },
     "metadata": {},
     "execution_count": 62
    }
   ],
   "metadata": {}
  },
  {
   "cell_type": "code",
   "execution_count": 63,
   "source": [
    "st_collection.insert_many([\n",
    "    {\"name\":\"able\", \"major\": \"mathematics\", \"gpa\" : 4.5}, \n",
    "    {\"name\": \"andrea\", \"major\" : \"Statistics\", \"gpa\" : 8.9, \"contact\" : {\"email\": \"andreath@gmail.com\"}}\n",
    "])"
   ],
   "outputs": [
    {
     "output_type": "execute_result",
     "data": {
      "text/plain": [
       "<pymongo.results.InsertManyResult at 0x7fe22835a140>"
      ]
     },
     "metadata": {},
     "execution_count": 63
    }
   ],
   "metadata": {}
  },
  {
   "cell_type": "markdown",
   "source": [
    "## INserting bulk file "
   ],
   "metadata": {}
  },
  {
   "cell_type": "code",
   "execution_count": null,
   "source": [],
   "outputs": [],
   "metadata": {}
  },
  {
   "cell_type": "markdown",
   "source": [
    "## Quering "
   ],
   "metadata": {}
  },
  {
   "cell_type": "code",
   "execution_count": 65,
   "source": [
    "st_collection.find_one()"
   ],
   "outputs": [
    {
     "output_type": "execute_result",
     "data": {
      "text/plain": [
       "{'_id': ObjectId('60f525454bed910495386894'),\n",
       " 'name': 'thomas',\n",
       " 'major': 'Data science',\n",
       " 'phone_number': 9562348638,\n",
       " 'gpa': 9.12}"
      ]
     },
     "metadata": {},
     "execution_count": 65
    }
   ],
   "metadata": {}
  },
  {
   "cell_type": "code",
   "execution_count": 68,
   "source": [
    "collection.find_one()"
   ],
   "outputs": [
    {
     "output_type": "execute_result",
     "data": {
      "text/plain": [
       "{'_id': ObjectId('60f521bb4bed910495386882'),\n",
       " 'companyName': 'ineuron',\n",
       " 'product': 'visual detector',\n",
       " 'courses_offered': ['data science', 'statistics']}"
      ]
     },
     "metadata": {},
     "execution_count": 68
    }
   ],
   "metadata": {}
  },
  {
   "cell_type": "code",
   "execution_count": 74,
   "source": [
    "for i in collection.find():\n",
    "    print(i ) "
   ],
   "outputs": [
    {
     "output_type": "stream",
     "name": "stdout",
     "text": [
      "{'_id': ObjectId('60f521bb4bed910495386882'), 'companyName': 'ineuron', 'product': 'visual detector', 'courses_offered': ['data science', 'statistics']}\n",
      "{'_id': ObjectId('60f521c04bed910495386883'), 'companyName': 'tocco', 'product': 'plotly', 'courses_offered': ['mathematics', 'artificial intelligence'], 'rating': 5.3, 'contact': {'email': 'tocco@gmail.com', 'phone no ': 242394283840242}}\n"
     ]
    }
   ],
   "metadata": {}
  },
  {
   "cell_type": "code",
   "execution_count": 76,
   "source": [
    "for i in collection.find({\"companyName\":'ineuron'}):\n",
    "    print(i)"
   ],
   "outputs": [
    {
     "output_type": "stream",
     "name": "stdout",
     "text": [
      "{'_id': ObjectId('60f521bb4bed910495386882'), 'companyName': 'ineuron', 'product': 'visual detector', 'courses_offered': ['data science', 'statistics']}\n"
     ]
    }
   ],
   "metadata": {}
  },
  {
   "cell_type": "code",
   "execution_count": 78,
   "source": [
    "list(collection.find({'companyName':'ineuron'}))"
   ],
   "outputs": [
    {
     "output_type": "execute_result",
     "data": {
      "text/plain": [
       "[{'_id': ObjectId('60f521bb4bed910495386882'),\n",
       "  'companyName': 'ineuron',\n",
       "  'product': 'visual detector',\n",
       "  'courses_offered': ['data science', 'statistics']}]"
      ]
     },
     "metadata": {},
     "execution_count": 78
    }
   ],
   "metadata": {}
  },
  {
   "cell_type": "code",
   "execution_count": 86,
   "source": [
    "#finding students with gpa greater than gpa 9\n",
    "list(st_collection.find({\"gpa\": {\"$gt\" :9 }},{\"_id\":0}))"
   ],
   "outputs": [
    {
     "output_type": "execute_result",
     "data": {
      "text/plain": [
       "[{'name': 'thomas',\n",
       "  'major': 'Data science',\n",
       "  'phone_number': 9562348638,\n",
       "  'gpa': 9.12},\n",
       " {'name': 'CLaire', 'major': 'Machine learning', 'gpa': 9.49},\n",
       " {'name': 'martin',\n",
       "  'gpa': 9.45,\n",
       "  'email': 'marting23@gmail.com',\n",
       "  'marks': [23, 1, 2, 13, 324, 53]}]"
      ]
     },
     "metadata": {},
     "execution_count": 86
    }
   ],
   "metadata": {}
  },
  {
   "cell_type": "markdown",
   "source": [
    "## Delete Operation "
   ],
   "metadata": {}
  },
  {
   "cell_type": "code",
   "execution_count": 90,
   "source": [
    "delete_query = {'name':'CLaire'} \n",
    "st_collection.delete_one(delete_query)"
   ],
   "outputs": [
    {
     "output_type": "execute_result",
     "data": {
      "text/plain": [
       "<pymongo.results.DeleteResult at 0x7fe1e8384dc0>"
      ]
     },
     "metadata": {},
     "execution_count": 90
    }
   ],
   "metadata": {}
  },
  {
   "cell_type": "code",
   "execution_count": 91,
   "source": [
    "multi_deletes = {\"gpa\": {\"$gt\" :9 }}\n",
    "st_collection.delete_many(multi_deletes)"
   ],
   "outputs": [
    {
     "output_type": "execute_result",
     "data": {
      "text/plain": [
       "<pymongo.results.DeleteResult at 0x7fe1e83a8140>"
      ]
     },
     "metadata": {},
     "execution_count": 91
    }
   ],
   "metadata": {}
  },
  {
   "cell_type": "code",
   "execution_count": 92,
   "source": [
    "# trying to get the students with gpa greater than gpa 9 \n",
    "# wont get any result \n",
    "list(st_collection.find({\"gpa\": {\"$gt\" :9 }},{\"_id\":0}))"
   ],
   "outputs": [
    {
     "output_type": "execute_result",
     "data": {
      "text/plain": [
       "[]"
      ]
     },
     "metadata": {},
     "execution_count": 92
    }
   ],
   "metadata": {}
  },
  {
   "cell_type": "code",
   "execution_count": 93,
   "source": [
    "st_collection.find_one()"
   ],
   "outputs": [
    {
     "output_type": "execute_result",
     "data": {
      "text/plain": [
       "{'_id': ObjectId('60f525454bed910495386896'),\n",
       " 'name': 'Maria',\n",
       " 'gpa': 8.43,\n",
       " 'awards': ['hackathone', 'basel jhons', 'summa cum laude']}"
      ]
     },
     "metadata": {},
     "execution_count": 93
    }
   ],
   "metadata": {}
  },
  {
   "cell_type": "code",
   "execution_count": 94,
   "source": [
    "# enumerate all the documents in student collection \n",
    "all_st_docs = st_collection.find()\n",
    "for idx,document in enumerate(all_st_docs):\n",
    "    print(f\"{document}\\n\")"
   ],
   "outputs": [
    {
     "output_type": "stream",
     "name": "stdout",
     "text": [
      "{'_id': ObjectId('60f525454bed910495386896'), 'name': 'Maria', 'gpa': 8.43, 'awards': ['hackathone', 'basel jhons', 'summa cum laude']}\n",
      "\n",
      "{'_id': ObjectId('60f525464bed910495386897'), 'name': 'Antony', 'major': 'Analytics', 'gpa': 8.49, 'awards': ['hackathone', 'Summa cum laude']}\n",
      "\n",
      "{'_id': ObjectId('60f525474bed910495386898'), 'name': 'Kate', 'major': 'Sociology', 'gpa': 8.49, 'contact': {'phone': '9562348628', 'email': 'kateste123@gmail.com'}}\n",
      "\n",
      "{'_id': ObjectId('60f525474bed910495386899'), 'name': 'phill', 'age': 23, 'gpa': 8.53, 'startdate': '2021-08-12'}\n",
      "\n",
      "{'_id': ObjectId('60f525474bed91049538689a'), 'name': 'able', 'major': 'mathematics', 'gpa': 4.5}\n",
      "\n",
      "{'_id': ObjectId('60f525474bed91049538689b'), 'name': 'andrea', 'major': 'Statistics', 'gpa': 8.9, 'contact': {'email': 'andreath@gmail.com'}}\n",
      "\n"
     ]
    }
   ],
   "metadata": {}
  },
  {
   "cell_type": "markdown",
   "source": [
    "## Droping the collection "
   ],
   "metadata": {}
  },
  {
   "cell_type": "code",
   "execution_count": 96,
   "source": [
    "# here the collection name refers to the company collection \n",
    "collection.drop()\n",
    "\n",
    "# now we have only student collection in the mydb database "
   ],
   "outputs": [],
   "metadata": {}
  },
  {
   "cell_type": "code",
   "execution_count": 105,
   "source": [
    "# verifying the collection \n",
    "collection_name = 'student'\n",
    "db_name = 'mydb'\n",
    "client_db1.list_collection_names()"
   ],
   "outputs": [
    {
     "output_type": "execute_result",
     "data": {
      "text/plain": [
       "['student']"
      ]
     },
     "metadata": {},
     "execution_count": 105
    }
   ],
   "metadata": {}
  },
  {
   "cell_type": "markdown",
   "source": [
    "## Update operation "
   ],
   "metadata": {}
  },
  {
   "cell_type": "code",
   "execution_count": 106,
   "source": [
    "present_data = {'name':'able'}\n",
    "new_data = {\"$set\":{'name':'Thomaskutty reji'}}\n",
    "st_collection.update(present_data, new_data)"
   ],
   "outputs": [
    {
     "output_type": "stream",
     "name": "stderr",
     "text": [
      "<ipython-input-106-7c18e4f8e04e>:3: DeprecationWarning: update is deprecated. Use replace_one, update_one or update_many instead.\n",
      "  st_collection.update(present_data, new_data)\n"
     ]
    },
    {
     "output_type": "execute_result",
     "data": {
      "text/plain": [
       "{'n': 1,\n",
       " 'nModified': 1,\n",
       " 'opTime': {'ts': Timestamp(1626681574, 1), 't': 88},\n",
       " 'electionId': ObjectId('7fffffff0000000000000058'),\n",
       " 'ok': 1.0,\n",
       " '$clusterTime': {'clusterTime': Timestamp(1626681574, 1),\n",
       "  'signature': {'hash': b'\\xde\\x1c<\\xb1\\xc1\\xb6\\xed\\xfa\\xf1?4\\xa0\\xd2\\xea+\\x99\\xb7V\\xe8\\x96',\n",
       "   'keyId': 6932185264236265473}},\n",
       " 'operationTime': Timestamp(1626681574, 1),\n",
       " 'updatedExisting': True}"
      ]
     },
     "metadata": {},
     "execution_count": 106
    }
   ],
   "metadata": {}
  },
  {
   "cell_type": "code",
   "execution_count": 108,
   "source": [
    "# enumerate all the documents again in student collection \n",
    "# can see that the name \"able\" is changed to \"Thomaskutty reji\" \n",
    "all_st_docs = st_collection.find()\n",
    "for idx,document in enumerate(all_st_docs):\n",
    "    print(f\"{document}\\n\")"
   ],
   "outputs": [
    {
     "output_type": "stream",
     "name": "stdout",
     "text": [
      "{'_id': ObjectId('60f525454bed910495386896'), 'name': 'Maria', 'gpa': 8.43, 'awards': ['hackathone', 'basel jhons', 'summa cum laude']}\n",
      "\n",
      "{'_id': ObjectId('60f525464bed910495386897'), 'name': 'Antony', 'major': 'Analytics', 'gpa': 8.49, 'awards': ['hackathone', 'Summa cum laude']}\n",
      "\n",
      "{'_id': ObjectId('60f525474bed910495386898'), 'name': 'Kate', 'major': 'Sociology', 'gpa': 8.49, 'contact': {'phone': '9562348628', 'email': 'kateste123@gmail.com'}}\n",
      "\n",
      "{'_id': ObjectId('60f525474bed910495386899'), 'name': 'phill', 'age': 23, 'gpa': 8.53, 'startdate': '2021-08-12'}\n",
      "\n",
      "{'_id': ObjectId('60f525474bed91049538689a'), 'name': 'Thomaskutty reji', 'major': 'mathematics', 'gpa': 4.5}\n",
      "\n",
      "{'_id': ObjectId('60f525474bed91049538689b'), 'name': 'andrea', 'major': 'Statistics', 'gpa': 8.9, 'contact': {'email': 'andreath@gmail.com'}}\n",
      "\n"
     ]
    }
   ],
   "metadata": {}
  },
  {
   "cell_type": "code",
   "execution_count": null,
   "source": [],
   "outputs": [],
   "metadata": {}
  }
 ],
 "metadata": {
  "kernelspec": {
   "display_name": "Python 3",
   "language": "python",
   "name": "python3"
  },
  "language_info": {
   "codemirror_mode": {
    "name": "ipython",
    "version": 3
   },
   "file_extension": ".py",
   "mimetype": "text/x-python",
   "name": "python",
   "nbconvert_exporter": "python",
   "pygments_lexer": "ipython3",
   "version": "3.8.8"
  }
 },
 "nbformat": 4,
 "nbformat_minor": 2
}