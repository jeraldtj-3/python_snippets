{
 "cells": [
  {
   "cell_type": "markdown",
   "id": "110fd79b",
   "metadata": {},
   "source": [
    "# Importing psycopg2"
   ]
  },
  {
   "cell_type": "code",
   "execution_count": 142,
   "id": "7d154577",
   "metadata": {},
   "outputs": [],
   "source": [
    "import psycopg2\n",
    "\n",
    "import psycopg2.extras  \n",
    "con = psycopg2.connect(dbname = 'dvdrental', user = 'postgres', password = 'supinf123', host = 'localhost') \n",
    "cur = con.cursor()  "
   ]
  },
  {
   "cell_type": "markdown",
   "id": "8b73695a",
   "metadata": {},
   "source": [
    "### Queries and output"
   ]
  },
  {
   "cell_type": "code",
   "execution_count": 126,
   "id": "4436a867",
   "metadata": {},
   "outputs": [],
   "source": [
    "# cur.execute('CREATE TABLE student(id serial primary key, name varchar);') \n",
    "\n",
    "# cur.execute('select * from customer;') \n",
    "# result = cur.fetchone()\n",
    "# print(result[0])"
   ]
  },
  {
   "cell_type": "code",
   "execution_count": 143,
   "id": "04d68f45",
   "metadata": {},
   "outputs": [
    {
     "name": "stdout",
     "output_type": "stream",
     "text": [
      "actor\n",
      "actor_info\n",
      "customer_list\n",
      "film_list\n",
      "nicer_but_slower_film_list\n",
      "sales_by_film_category\n",
      "store\n",
      "sales_by_store\n",
      "staff_list\n",
      "address\n",
      "category\n",
      "city\n",
      "country\n",
      "customer\n",
      "film_actor\n",
      "film_category\n",
      "inventory\n",
      "language\n",
      "rental\n",
      "staff\n",
      "payment\n",
      "film\n",
      "student\n"
     ]
    }
   ],
   "source": [
    "# getting all the table names in a data base \n",
    "cur.execute(\"\"\"\n",
    "SELECT table_name FROM information_schema.tables\n",
    "       WHERE table_schema = 'public'\n",
    "       \"\"\")\n",
    "for table in cur.fetchall():\n",
    "    print(table[0])\n",
    "\n",
    "# con.commit()"
   ]
  },
  {
   "cell_type": "code",
   "execution_count": 144,
   "id": "641af60b",
   "metadata": {},
   "outputs": [
    {
     "name": "stdout",
     "output_type": "stream",
     "text": [
      "['customer_id', 'store_id', 'first_name', 'last_name', 'email', 'address_id', 'activebool', 'create_date', 'last_update', 'active']\n"
     ]
    }
   ],
   "source": [
    "# getting the colum names of a table \n",
    "cur.execute(\"\"\"\n",
    "        select * from information_schema.columns\n",
    "        where table_schema = 'public'\n",
    "        and table_name = 'customer'\n",
    "\"\"\")\n",
    "cols = []\n",
    "for  i in cur.fetchall():\n",
    "    cols.append(i[3])\n",
    "print(cols)"
   ]
  },
  {
   "cell_type": "markdown",
   "id": "4bfdca0d",
   "metadata": {},
   "source": [
    "## Getting the output as dataframe format"
   ]
  },
  {
   "cell_type": "code",
   "execution_count": 145,
   "id": "949dfe50",
   "metadata": {},
   "outputs": [],
   "source": [
    "import pandas as pd "
   ]
  },
  {
   "cell_type": "code",
   "execution_count": 148,
   "id": "281c77bd",
   "metadata": {},
   "outputs": [],
   "source": [
    "def astable(result):\n",
    "    cols = range(len(result[0]))\n",
    "    output = pd.DataFrame(columns = cols) \n",
    "    \n",
    "    for j in range(len(result)):\n",
    "        output.loc[j] = result[j] \n",
    "    return output"
   ]
  },
  {
   "cell_type": "code",
   "execution_count": 149,
   "id": "431a32a6",
   "metadata": {},
   "outputs": [
    {
     "data": {
      "text/html": [
       "<div>\n",
       "<style scoped>\n",
       "    .dataframe tbody tr th:only-of-type {\n",
       "        vertical-align: middle;\n",
       "    }\n",
       "\n",
       "    .dataframe tbody tr th {\n",
       "        vertical-align: top;\n",
       "    }\n",
       "\n",
       "    .dataframe thead th {\n",
       "        text-align: right;\n",
       "    }\n",
       "</style>\n",
       "<table border=\"1\" class=\"dataframe\">\n",
       "  <thead>\n",
       "    <tr style=\"text-align: right;\">\n",
       "      <th></th>\n",
       "      <th>0</th>\n",
       "      <th>1</th>\n",
       "      <th>2</th>\n",
       "      <th>3</th>\n",
       "      <th>4</th>\n",
       "      <th>5</th>\n",
       "      <th>6</th>\n",
       "      <th>7</th>\n",
       "      <th>8</th>\n",
       "      <th>9</th>\n",
       "    </tr>\n",
       "  </thead>\n",
       "  <tbody>\n",
       "    <tr>\n",
       "      <th>0</th>\n",
       "      <td>524</td>\n",
       "      <td>1</td>\n",
       "      <td>Jared</td>\n",
       "      <td>Ely</td>\n",
       "      <td>jared.ely@sakilacustomer.org</td>\n",
       "      <td>530</td>\n",
       "      <td>True</td>\n",
       "      <td>2006-02-14</td>\n",
       "      <td>2013-05-26 14:49:45.738</td>\n",
       "      <td>1</td>\n",
       "    </tr>\n",
       "    <tr>\n",
       "      <th>1</th>\n",
       "      <td>1</td>\n",
       "      <td>1</td>\n",
       "      <td>Mary</td>\n",
       "      <td>Smith</td>\n",
       "      <td>mary.smith@sakilacustomer.org</td>\n",
       "      <td>5</td>\n",
       "      <td>True</td>\n",
       "      <td>2006-02-14</td>\n",
       "      <td>2013-05-26 14:49:45.738</td>\n",
       "      <td>1</td>\n",
       "    </tr>\n",
       "    <tr>\n",
       "      <th>2</th>\n",
       "      <td>2</td>\n",
       "      <td>1</td>\n",
       "      <td>Patricia</td>\n",
       "      <td>Johnson</td>\n",
       "      <td>patricia.johnson@sakilacustomer.org</td>\n",
       "      <td>6</td>\n",
       "      <td>True</td>\n",
       "      <td>2006-02-14</td>\n",
       "      <td>2013-05-26 14:49:45.738</td>\n",
       "      <td>1</td>\n",
       "    </tr>\n",
       "    <tr>\n",
       "      <th>3</th>\n",
       "      <td>3</td>\n",
       "      <td>1</td>\n",
       "      <td>Linda</td>\n",
       "      <td>Williams</td>\n",
       "      <td>linda.williams@sakilacustomer.org</td>\n",
       "      <td>7</td>\n",
       "      <td>True</td>\n",
       "      <td>2006-02-14</td>\n",
       "      <td>2013-05-26 14:49:45.738</td>\n",
       "      <td>1</td>\n",
       "    </tr>\n",
       "    <tr>\n",
       "      <th>4</th>\n",
       "      <td>4</td>\n",
       "      <td>2</td>\n",
       "      <td>Barbara</td>\n",
       "      <td>Jones</td>\n",
       "      <td>barbara.jones@sakilacustomer.org</td>\n",
       "      <td>8</td>\n",
       "      <td>True</td>\n",
       "      <td>2006-02-14</td>\n",
       "      <td>2013-05-26 14:49:45.738</td>\n",
       "      <td>1</td>\n",
       "    </tr>\n",
       "  </tbody>\n",
       "</table>\n",
       "</div>"
      ],
      "text/plain": [
       "     0  1         2         3                                    4    5     6  \\\n",
       "0  524  1     Jared       Ely         jared.ely@sakilacustomer.org  530  True   \n",
       "1    1  1      Mary     Smith        mary.smith@sakilacustomer.org    5  True   \n",
       "2    2  1  Patricia   Johnson  patricia.johnson@sakilacustomer.org    6  True   \n",
       "3    3  1     Linda  Williams    linda.williams@sakilacustomer.org    7  True   \n",
       "4    4  2   Barbara     Jones     barbara.jones@sakilacustomer.org    8  True   \n",
       "\n",
       "            7                       8  9  \n",
       "0  2006-02-14 2013-05-26 14:49:45.738  1  \n",
       "1  2006-02-14 2013-05-26 14:49:45.738  1  \n",
       "2  2006-02-14 2013-05-26 14:49:45.738  1  \n",
       "3  2006-02-14 2013-05-26 14:49:45.738  1  \n",
       "4  2006-02-14 2013-05-26 14:49:45.738  1  "
      ]
     },
     "execution_count": 149,
     "metadata": {},
     "output_type": "execute_result"
    }
   ],
   "source": [
    "cur.execute(\"\"\"\n",
    "        select * from customer\n",
    "        limit(5)\n",
    "        \"\"\")\n",
    "result = cur.fetchall()\n",
    "# for i in result:\n",
    "#     print(i)\n",
    "    \n",
    "for j in range(len(result)):\n",
    "    df.loc[j] = result[j]\n",
    "    \n",
    "astable(result)"
   ]
  },
  {
   "cell_type": "code",
   "execution_count": 150,
   "id": "5ae81264",
   "metadata": {},
   "outputs": [],
   "source": [
    "def astable(result,cols):\n",
    "    output = pd.DataFrame(columns = cols) \n",
    "    for j in range(len(result)):\n",
    "        output.loc[j] = result[j] \n",
    "    return output"
   ]
  },
  {
   "cell_type": "code",
   "execution_count": 151,
   "id": "6a8ca9ee",
   "metadata": {},
   "outputs": [
    {
     "data": {
      "text/html": [
       "<div>\n",
       "<style scoped>\n",
       "    .dataframe tbody tr th:only-of-type {\n",
       "        vertical-align: middle;\n",
       "    }\n",
       "\n",
       "    .dataframe tbody tr th {\n",
       "        vertical-align: top;\n",
       "    }\n",
       "\n",
       "    .dataframe thead th {\n",
       "        text-align: right;\n",
       "    }\n",
       "</style>\n",
       "<table border=\"1\" class=\"dataframe\">\n",
       "  <thead>\n",
       "    <tr style=\"text-align: right;\">\n",
       "      <th></th>\n",
       "      <th>firstname</th>\n",
       "      <th>lastname</th>\n",
       "    </tr>\n",
       "  </thead>\n",
       "  <tbody>\n",
       "    <tr>\n",
       "      <th>0</th>\n",
       "      <td>Penelope</td>\n",
       "      <td>Guiness</td>\n",
       "    </tr>\n",
       "    <tr>\n",
       "      <th>1</th>\n",
       "      <td>Nick</td>\n",
       "      <td>Wahlberg</td>\n",
       "    </tr>\n",
       "    <tr>\n",
       "      <th>2</th>\n",
       "      <td>Ed</td>\n",
       "      <td>Chase</td>\n",
       "    </tr>\n",
       "    <tr>\n",
       "      <th>3</th>\n",
       "      <td>Jennifer</td>\n",
       "      <td>Davis</td>\n",
       "    </tr>\n",
       "    <tr>\n",
       "      <th>4</th>\n",
       "      <td>Johnny</td>\n",
       "      <td>Lollobrigida</td>\n",
       "    </tr>\n",
       "    <tr>\n",
       "      <th>5</th>\n",
       "      <td>Bette</td>\n",
       "      <td>Nicholson</td>\n",
       "    </tr>\n",
       "  </tbody>\n",
       "</table>\n",
       "</div>"
      ],
      "text/plain": [
       "  firstname      lastname\n",
       "0  Penelope       Guiness\n",
       "1      Nick      Wahlberg\n",
       "2        Ed         Chase\n",
       "3  Jennifer         Davis\n",
       "4    Johnny  Lollobrigida\n",
       "5     Bette     Nicholson"
      ]
     },
     "execution_count": 151,
     "metadata": {},
     "output_type": "execute_result"
    }
   ],
   "source": [
    "cur.execute(\"\"\"\n",
    "    select actor.first_name, actor.last_name from actor\n",
    "    limit(6)\n",
    "    \"\"\")\n",
    "astable(cur.fetchall(), cols = ['firstname', 'lastname'])"
   ]
  },
  {
   "cell_type": "markdown",
   "id": "f1327814",
   "metadata": {},
   "source": [
    "## Closing the connection"
   ]
  },
  {
   "cell_type": "code",
   "execution_count": 153,
   "id": "0e2e4c18",
   "metadata": {},
   "outputs": [],
   "source": [
    "cur.close() \n",
    "con.close()"
   ]
  },
  {
   "cell_type": "code",
   "execution_count": null,
   "id": "a1d5cd05",
   "metadata": {},
   "outputs": [],
   "source": []
  }
 ],
 "metadata": {
  "kernelspec": {
   "display_name": "Python 3.8.5 64-bit ('base': conda)",
   "language": "python",
   "name": "python388jvsc74a57bd0b3ba2566441a7c06988d0923437866b63cedc61552a5af99d1f4fb67d367b25f"
  },
  "language_info": {
   "codemirror_mode": {
    "name": "ipython",
    "version": 3
   },
   "file_extension": ".py",
   "mimetype": "text/x-python",
   "name": "python",
   "nbconvert_exporter": "python",
   "pygments_lexer": "ipython3",
   "version": "3.8.8"
  }
 },
 "nbformat": 4,
 "nbformat_minor": 5
}
