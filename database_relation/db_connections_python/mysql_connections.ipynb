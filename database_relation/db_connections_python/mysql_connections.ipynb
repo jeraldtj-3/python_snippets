{
 "cells": [
  {
   "cell_type": "markdown",
   "id": "3966c9b9",
   "metadata": {},
   "source": [
    "## Making the connection"
   ]
  },
  {
   "cell_type": "code",
   "execution_count": 43,
   "id": "b9cdbd43",
   "metadata": {},
   "outputs": [],
   "source": [
    "import mysql.connector as connection"
   ]
  },
  {
   "cell_type": "markdown",
   "id": "556c97f4",
   "metadata": {},
   "source": [
    "## Showing Databases"
   ]
  },
  {
   "cell_type": "code",
   "execution_count": 44,
   "id": "6b3b7544",
   "metadata": {},
   "outputs": [
    {
     "name": "stdout",
     "output_type": "stream",
     "text": [
      "[('Mytestdb',), ('information_schema',), ('mysql',), ('performance_schema',), ('sys',)]\n"
     ]
    }
   ],
   "source": [
    "try:\n",
    "    # providing the connection \n",
    "    conn = connection.connect(host = 'localhost', \n",
    "        user = 'root', \n",
    "        passwd = 'Computer123@', \n",
    "        use_pure = True) \n",
    "    query = \"SHOW DATABASES\" \n",
    "    curs = conn.cursor() # creating the cursor for the connection \n",
    "    curs.execute(query) \n",
    "    print(curs.fetchall())\n",
    "    conn.close()\n",
    "except Exception as e:\n",
    "    print(str(e))"
   ]
  },
  {
   "cell_type": "markdown",
   "id": "5c7b6bde",
   "metadata": {},
   "source": [
    "## Checking the connection"
   ]
  },
  {
   "cell_type": "code",
   "execution_count": 3,
   "id": "cc648245",
   "metadata": {},
   "outputs": [
    {
     "data": {
      "text/plain": [
       "False"
      ]
     },
     "execution_count": 3,
     "metadata": {},
     "output_type": "execute_result"
    }
   ],
   "source": [
    "conn.is_connected()"
   ]
  },
  {
   "cell_type": "markdown",
   "id": "a44318ee",
   "metadata": {},
   "source": [
    "## Dropping Database"
   ]
  },
  {
   "cell_type": "code",
   "execution_count": 6,
   "id": "3c94f582",
   "metadata": {},
   "outputs": [],
   "source": [
    "try:\n",
    "    # providing the connection \n",
    "    conn = connection.connect(host = 'localhost', \n",
    "        user = 'root', \n",
    "        passwd = 'Computer123@', \n",
    "        use_pure = True) \n",
    "    query = \"DROP DATABASE Mytestdb\" \n",
    "    curs = conn.cursor() # creating the cursor for the connection \n",
    "    curs.execute(query) \n",
    "    # print(curs.fetchall())\n",
    "    conn.close()\n",
    "except Exception as e:\n",
    "    print(str(e))"
   ]
  },
  {
   "cell_type": "markdown",
   "id": "64322bf7",
   "metadata": {},
   "source": [
    "## Creating new database"
   ]
  },
  {
   "cell_type": "code",
   "execution_count": 8,
   "id": "72751261",
   "metadata": {},
   "outputs": [],
   "source": [
    "# CREATE DATABASE mydb \n",
    "conn = connection.connect(host = 'localhost',\n",
    "                          user = 'root',\n",
    "                         passwd = 'Computer123@', \n",
    "                         use_pure = True) \n",
    "curs = conn.cursor() \n",
    "curs.execute('CREATE DATABASE Mytestdb') \n",
    "conn.close()"
   ]
  },
  {
   "cell_type": "code",
   "execution_count": 9,
   "id": "c4cd40d7",
   "metadata": {},
   "outputs": [
    {
     "name": "stdout",
     "output_type": "stream",
     "text": [
      "[('Mytestdb',), ('information_schema',), ('mysql',), ('performance_schema',), ('sys',)]\n"
     ]
    }
   ],
   "source": [
    "# checking \n",
    "conn = connection.connect(host = 'localhost', user = 'root', \n",
    "                          passwd = 'Computer123@',use_pure = True)\n",
    "curs = conn.cursor()\n",
    "curs.execute('show databases')\n",
    "print(curs.fetchall())\n",
    "conn.close()"
   ]
  },
  {
   "cell_type": "markdown",
   "id": "e1421782",
   "metadata": {},
   "source": [
    "## Creating a table inside the database"
   ]
  },
  {
   "cell_type": "code",
   "execution_count": 10,
   "id": "d26be718",
   "metadata": {},
   "outputs": [],
   "source": [
    "test_db_conn = connection.connect(host = 'localhost',user = 'root', \n",
    "                                  passwd = 'Computer123@',\n",
    "                         database = 'Mytestdb',use_pure = True)\n",
    "curs = test_db_conn.cursor() \n",
    "statement = \"\"\"\n",
    "CREATE TABLE StudentDetails(studentId INT(10) AUTO_INCREMENT PRIMARY KEY,\n",
    "                            firstName VARCHAR(20), \n",
    "                            lastName VARCHAR(20), \n",
    "                            registrationDate DATE, \n",
    "                            class VARCHAR(20), \n",
    "                            section VARCHAR(10))\n",
    "\"\"\"\n",
    "curs.execute(statement)"
   ]
  },
  {
   "cell_type": "code",
   "execution_count": 11,
   "id": "90ae3807",
   "metadata": {},
   "outputs": [],
   "source": [
    "test_db_conn.close()"
   ]
  },
  {
   "cell_type": "code",
   "execution_count": 12,
   "id": "1bf7194d",
   "metadata": {},
   "outputs": [
    {
     "name": "stdout",
     "output_type": "stream",
     "text": [
      "[]\n"
     ]
    }
   ],
   "source": [
    "# checking the tables \n",
    "test_db_conn = connection.connect(host = 'localhost',user = 'root', \n",
    "                                  passwd = 'Computer123@',\n",
    "                         database = 'Mytestdb',use_pure = True)\n",
    "curs = test_db_conn.cursor() \n",
    "statement  = \"select * from StudentDetails\" \n",
    "curs.execute(statement)\n",
    "print(curs.fetchall())\n",
    "test_db_conn.close()"
   ]
  },
  {
   "cell_type": "markdown",
   "id": "4f6eada1",
   "metadata": {},
   "source": [
    "## Inserting records into database table "
   ]
  },
  {
   "cell_type": "code",
   "execution_count": 13,
   "id": "3c5e08d2",
   "metadata": {},
   "outputs": [],
   "source": [
    "test_db_conn = connection.connect(host = 'localhost',user = 'root', \n",
    "                                  passwd = 'Computer123@',\n",
    "                         database = 'Mytestdb',use_pure = True)\n",
    "curs = test_db_conn.cursor()\n",
    "statement = \"\"\"\n",
    "        INSERT INTO StudentDetails VALUES\n",
    "        ('1132', 'Thomas', 'Reji','2020-12-21', 'pg', 'Four') \n",
    "\"\"\"\n",
    "curs.execute(statement)\n",
    "test_db_conn.commit() \n",
    "test_db_conn.close()"
   ]
  },
  {
   "cell_type": "code",
   "execution_count": 14,
   "id": "92837a05",
   "metadata": {},
   "outputs": [
    {
     "name": "stdout",
     "output_type": "stream",
     "text": [
      "[(1132, 'Thomas', 'Reji', datetime.date(2020, 12, 21), 'pg', 'Four')]\n"
     ]
    }
   ],
   "source": [
    "# selecting the records\n",
    "test_db_conn = connection.connect(host = 'localhost',user = 'root', \n",
    "                                  passwd = 'Computer123@',\n",
    "                         database = 'Mytestdb',use_pure = True)\n",
    "curs = test_db_conn.cursor() \n",
    "statement  = \"select * from StudentDetails\" \n",
    "curs.execute(statement)\n",
    "print(curs.fetchall())\n",
    "test_db_conn.close()"
   ]
  },
  {
   "cell_type": "code",
   "execution_count": 15,
   "id": "996836d6",
   "metadata": {},
   "outputs": [],
   "source": [
    "test_db_conn = connection.connect(host = 'localhost',user = 'root', \n",
    "                                  passwd = 'Computer123@',\n",
    "                         database = 'Mytestdb',use_pure = True)\n",
    "curs = test_db_conn.cursor()\n",
    "statement1 = \"\"\"\n",
    "        INSERT INTO StudentDetails VALUES\n",
    "        ('1133', 'Maria', 'Thomas','2020-11-20', 'pg', 'Four')\n",
    "        \"\"\"\n",
    "statement2= \"\"\"\n",
    "        INSERT INTO StudentDetails VALUES\n",
    "        ('1134', 'steve', 'martin','2020-08-25', 'ug', 'Second')\n",
    "\"\"\"\n",
    "statement3 = \"\"\"\n",
    "        INSERT INTO StudentDetails VALUES\n",
    "        ('1135', 'Colins', 'James','2020-11-20', 'pg', 'First')        \n",
    "\"\"\"\n",
    "curs.execute(statement1)\n",
    "curs.execute(statement2)\n",
    "curs.execute(statement3)\n",
    "\n",
    "test_db_conn.commit() \n",
    "test_db_conn.close()"
   ]
  },
  {
   "cell_type": "markdown",
   "id": "b168fd42",
   "metadata": {},
   "source": [
    "## Getting all the inserted rows "
   ]
  },
  {
   "cell_type": "code",
   "execution_count": 16,
   "id": "5e95ef56",
   "metadata": {},
   "outputs": [
    {
     "name": "stdout",
     "output_type": "stream",
     "text": [
      "[(1132, 'Thomas', 'Reji', datetime.date(2020, 12, 21), 'pg', 'Four'), (1133, 'Maria', 'Thomas', datetime.date(2020, 11, 20), 'pg', 'Four'), (1134, 'steve', 'martin', datetime.date(2020, 8, 25), 'ug', 'Second'), (1135, 'Colins', 'James', datetime.date(2020, 11, 20), 'pg', 'First')]\n"
     ]
    }
   ],
   "source": [
    "# selecting the records\n",
    "test_db_conn = connection.connect(host = 'localhost',user = 'root', \n",
    "                                  passwd = 'Computer123@',\n",
    "                         database = 'Mytestdb',use_pure = True)\n",
    "curs = test_db_conn.cursor() \n",
    "statement  = \"select * from StudentDetails\" \n",
    "curs.execute(statement)\n",
    "print(curs.fetchall())\n",
    "test_db_conn.close()"
   ]
  },
  {
   "cell_type": "code",
   "execution_count": 17,
   "id": "5f301051",
   "metadata": {},
   "outputs": [
    {
     "name": "stdout",
     "output_type": "stream",
     "text": [
      "(1132, 'Thomas', 'Reji', datetime.date(2020, 12, 21), 'pg', 'Four')\n",
      "(1133, 'Maria', 'Thomas', datetime.date(2020, 11, 20), 'pg', 'Four')\n",
      "(1134, 'steve', 'martin', datetime.date(2020, 8, 25), 'ug', 'Second')\n",
      "(1135, 'Colins', 'James', datetime.date(2020, 11, 20), 'pg', 'First')\n"
     ]
    }
   ],
   "source": [
    "test_db_conn = connection.connect(host = 'localhost',user = 'root', \n",
    "                                  passwd = 'Computer123@',\n",
    "                         database = 'Mytestdb',use_pure = True)\n",
    "curs = test_db_conn.cursor() \n",
    "statement  = \"select * from StudentDetails\" \n",
    "curs.execute(statement)\n",
    "for i in curs.fetchall():\n",
    "    print(i)\n",
    "test_db_conn.close()"
   ]
  },
  {
   "cell_type": "markdown",
   "id": "361c96e3",
   "metadata": {},
   "source": [
    "## Getting data in tabular format "
   ]
  },
  {
   "cell_type": "code",
   "execution_count": 18,
   "id": "c0e6439d",
   "metadata": {},
   "outputs": [],
   "source": [
    "import pandas as pd"
   ]
  },
  {
   "cell_type": "code",
   "execution_count": 23,
   "id": "bf9cebcd",
   "metadata": {},
   "outputs": [
    {
     "data": {
      "text/html": [
       "<div>\n",
       "<style scoped>\n",
       "    .dataframe tbody tr th:only-of-type {\n",
       "        vertical-align: middle;\n",
       "    }\n",
       "\n",
       "    .dataframe tbody tr th {\n",
       "        vertical-align: top;\n",
       "    }\n",
       "\n",
       "    .dataframe thead th {\n",
       "        text-align: right;\n",
       "    }\n",
       "</style>\n",
       "<table border=\"1\" class=\"dataframe\">\n",
       "  <thead>\n",
       "    <tr style=\"text-align: right;\">\n",
       "      <th></th>\n",
       "      <th>studentId</th>\n",
       "      <th>firstName</th>\n",
       "      <th>lastName</th>\n",
       "      <th>registrationDate</th>\n",
       "      <th>class</th>\n",
       "      <th>section</th>\n",
       "    </tr>\n",
       "  </thead>\n",
       "  <tbody>\n",
       "    <tr>\n",
       "      <th>0</th>\n",
       "      <td>1132</td>\n",
       "      <td>Thomas</td>\n",
       "      <td>Reji</td>\n",
       "      <td>2020-12-21</td>\n",
       "      <td>pg</td>\n",
       "      <td>Four</td>\n",
       "    </tr>\n",
       "    <tr>\n",
       "      <th>1</th>\n",
       "      <td>1133</td>\n",
       "      <td>Maria</td>\n",
       "      <td>Thomas</td>\n",
       "      <td>2020-11-20</td>\n",
       "      <td>pg</td>\n",
       "      <td>Four</td>\n",
       "    </tr>\n",
       "    <tr>\n",
       "      <th>2</th>\n",
       "      <td>1134</td>\n",
       "      <td>steve</td>\n",
       "      <td>martin</td>\n",
       "      <td>2020-08-25</td>\n",
       "      <td>ug</td>\n",
       "      <td>Second</td>\n",
       "    </tr>\n",
       "    <tr>\n",
       "      <th>3</th>\n",
       "      <td>1135</td>\n",
       "      <td>Colins</td>\n",
       "      <td>James</td>\n",
       "      <td>2020-11-20</td>\n",
       "      <td>pg</td>\n",
       "      <td>First</td>\n",
       "    </tr>\n",
       "  </tbody>\n",
       "</table>\n",
       "</div>"
      ],
      "text/plain": [
       "   studentId firstName lastName registrationDate class section\n",
       "0       1132    Thomas     Reji       2020-12-21    pg    Four\n",
       "1       1133     Maria   Thomas       2020-11-20    pg    Four\n",
       "2       1134     steve   martin       2020-08-25    ug  Second\n",
       "3       1135    Colins    James       2020-11-20    pg   First"
      ]
     },
     "execution_count": 23,
     "metadata": {},
     "output_type": "execute_result"
    }
   ],
   "source": [
    "test_db_conn = connection.connect(host = 'localhost',user = 'root', \n",
    "                                  passwd = 'Computer123@',\n",
    "                         database = 'Mytestdb',use_pure = True)\n",
    "pd.read_sql(\"select * from StudentDetails\", test_db_conn)"
   ]
  },
  {
   "cell_type": "markdown",
   "id": "c21530c3",
   "metadata": {},
   "source": [
    "## Reading the file and dump it into the database "
   ]
  },
  {
   "cell_type": "markdown",
   "id": "6e6151ae",
   "metadata": {},
   "source": [
    "### Reading the data using pandas "
   ]
  },
  {
   "cell_type": "code",
   "execution_count": 24,
   "id": "f9669cb4",
   "metadata": {},
   "outputs": [
    {
     "data": {
      "text/html": [
       "<div>\n",
       "<style scoped>\n",
       "    .dataframe tbody tr th:only-of-type {\n",
       "        vertical-align: middle;\n",
       "    }\n",
       "\n",
       "    .dataframe tbody tr th {\n",
       "        vertical-align: top;\n",
       "    }\n",
       "\n",
       "    .dataframe thead th {\n",
       "        text-align: right;\n",
       "    }\n",
       "</style>\n",
       "<table border=\"1\" class=\"dataframe\">\n",
       "  <thead>\n",
       "    <tr style=\"text-align: right;\">\n",
       "      <th></th>\n",
       "      <th>index</th>\n",
       "      <th>RI</th>\n",
       "      <th>Na</th>\n",
       "      <th>Mg</th>\n",
       "      <th>Al</th>\n",
       "      <th>Si</th>\n",
       "      <th>K</th>\n",
       "      <th>Ca</th>\n",
       "      <th>Ba</th>\n",
       "      <th>Fe</th>\n",
       "      <th>Class</th>\n",
       "    </tr>\n",
       "  </thead>\n",
       "  <tbody>\n",
       "    <tr>\n",
       "      <th>0</th>\n",
       "      <td>1</td>\n",
       "      <td>1.52101</td>\n",
       "      <td>13.64</td>\n",
       "      <td>4.49</td>\n",
       "      <td>1.10</td>\n",
       "      <td>71.78</td>\n",
       "      <td>0.06</td>\n",
       "      <td>8.75</td>\n",
       "      <td>0.00</td>\n",
       "      <td>0.0</td>\n",
       "      <td>1</td>\n",
       "    </tr>\n",
       "    <tr>\n",
       "      <th>1</th>\n",
       "      <td>2</td>\n",
       "      <td>1.51761</td>\n",
       "      <td>13.89</td>\n",
       "      <td>3.60</td>\n",
       "      <td>1.36</td>\n",
       "      <td>72.73</td>\n",
       "      <td>0.48</td>\n",
       "      <td>7.83</td>\n",
       "      <td>0.00</td>\n",
       "      <td>0.0</td>\n",
       "      <td>1</td>\n",
       "    </tr>\n",
       "    <tr>\n",
       "      <th>2</th>\n",
       "      <td>3</td>\n",
       "      <td>1.51618</td>\n",
       "      <td>13.53</td>\n",
       "      <td>3.55</td>\n",
       "      <td>1.54</td>\n",
       "      <td>72.99</td>\n",
       "      <td>0.39</td>\n",
       "      <td>7.78</td>\n",
       "      <td>0.00</td>\n",
       "      <td>0.0</td>\n",
       "      <td>1</td>\n",
       "    </tr>\n",
       "    <tr>\n",
       "      <th>3</th>\n",
       "      <td>4</td>\n",
       "      <td>1.51766</td>\n",
       "      <td>13.21</td>\n",
       "      <td>3.69</td>\n",
       "      <td>1.29</td>\n",
       "      <td>72.61</td>\n",
       "      <td>0.57</td>\n",
       "      <td>8.22</td>\n",
       "      <td>0.00</td>\n",
       "      <td>0.0</td>\n",
       "      <td>1</td>\n",
       "    </tr>\n",
       "    <tr>\n",
       "      <th>4</th>\n",
       "      <td>5</td>\n",
       "      <td>1.51742</td>\n",
       "      <td>13.27</td>\n",
       "      <td>3.62</td>\n",
       "      <td>1.24</td>\n",
       "      <td>73.08</td>\n",
       "      <td>0.55</td>\n",
       "      <td>8.07</td>\n",
       "      <td>0.00</td>\n",
       "      <td>0.0</td>\n",
       "      <td>1</td>\n",
       "    </tr>\n",
       "    <tr>\n",
       "      <th>...</th>\n",
       "      <td>...</td>\n",
       "      <td>...</td>\n",
       "      <td>...</td>\n",
       "      <td>...</td>\n",
       "      <td>...</td>\n",
       "      <td>...</td>\n",
       "      <td>...</td>\n",
       "      <td>...</td>\n",
       "      <td>...</td>\n",
       "      <td>...</td>\n",
       "      <td>...</td>\n",
       "    </tr>\n",
       "    <tr>\n",
       "      <th>209</th>\n",
       "      <td>210</td>\n",
       "      <td>1.51623</td>\n",
       "      <td>14.14</td>\n",
       "      <td>0.00</td>\n",
       "      <td>2.88</td>\n",
       "      <td>72.61</td>\n",
       "      <td>0.08</td>\n",
       "      <td>9.18</td>\n",
       "      <td>1.06</td>\n",
       "      <td>0.0</td>\n",
       "      <td>7</td>\n",
       "    </tr>\n",
       "    <tr>\n",
       "      <th>210</th>\n",
       "      <td>211</td>\n",
       "      <td>1.51685</td>\n",
       "      <td>14.92</td>\n",
       "      <td>0.00</td>\n",
       "      <td>1.99</td>\n",
       "      <td>73.06</td>\n",
       "      <td>0.00</td>\n",
       "      <td>8.40</td>\n",
       "      <td>1.59</td>\n",
       "      <td>0.0</td>\n",
       "      <td>7</td>\n",
       "    </tr>\n",
       "    <tr>\n",
       "      <th>211</th>\n",
       "      <td>212</td>\n",
       "      <td>1.52065</td>\n",
       "      <td>14.36</td>\n",
       "      <td>0.00</td>\n",
       "      <td>2.02</td>\n",
       "      <td>73.42</td>\n",
       "      <td>0.00</td>\n",
       "      <td>8.44</td>\n",
       "      <td>1.64</td>\n",
       "      <td>0.0</td>\n",
       "      <td>7</td>\n",
       "    </tr>\n",
       "    <tr>\n",
       "      <th>212</th>\n",
       "      <td>213</td>\n",
       "      <td>1.51651</td>\n",
       "      <td>14.38</td>\n",
       "      <td>0.00</td>\n",
       "      <td>1.94</td>\n",
       "      <td>73.61</td>\n",
       "      <td>0.00</td>\n",
       "      <td>8.48</td>\n",
       "      <td>1.57</td>\n",
       "      <td>0.0</td>\n",
       "      <td>7</td>\n",
       "    </tr>\n",
       "    <tr>\n",
       "      <th>213</th>\n",
       "      <td>214</td>\n",
       "      <td>1.51711</td>\n",
       "      <td>14.23</td>\n",
       "      <td>0.00</td>\n",
       "      <td>2.08</td>\n",
       "      <td>73.36</td>\n",
       "      <td>0.00</td>\n",
       "      <td>8.62</td>\n",
       "      <td>1.67</td>\n",
       "      <td>0.0</td>\n",
       "      <td>7</td>\n",
       "    </tr>\n",
       "  </tbody>\n",
       "</table>\n",
       "<p>214 rows × 11 columns</p>\n",
       "</div>"
      ],
      "text/plain": [
       "     index       RI     Na    Mg    Al     Si     K    Ca    Ba   Fe  Class\n",
       "0        1  1.52101  13.64  4.49  1.10  71.78  0.06  8.75  0.00  0.0      1\n",
       "1        2  1.51761  13.89  3.60  1.36  72.73  0.48  7.83  0.00  0.0      1\n",
       "2        3  1.51618  13.53  3.55  1.54  72.99  0.39  7.78  0.00  0.0      1\n",
       "3        4  1.51766  13.21  3.69  1.29  72.61  0.57  8.22  0.00  0.0      1\n",
       "4        5  1.51742  13.27  3.62  1.24  73.08  0.55  8.07  0.00  0.0      1\n",
       "..     ...      ...    ...   ...   ...    ...   ...   ...   ...  ...    ...\n",
       "209    210  1.51623  14.14  0.00  2.88  72.61  0.08  9.18  1.06  0.0      7\n",
       "210    211  1.51685  14.92  0.00  1.99  73.06  0.00  8.40  1.59  0.0      7\n",
       "211    212  1.52065  14.36  0.00  2.02  73.42  0.00  8.44  1.64  0.0      7\n",
       "212    213  1.51651  14.38  0.00  1.94  73.61  0.00  8.48  1.57  0.0      7\n",
       "213    214  1.51711  14.23  0.00  2.08  73.36  0.00  8.62  1.67  0.0      7\n",
       "\n",
       "[214 rows x 11 columns]"
      ]
     },
     "execution_count": 24,
     "metadata": {},
     "output_type": "execute_result"
    }
   ],
   "source": [
    "glass_data = pd.read_csv('glass.csv')\n",
    "glass_data"
   ]
  },
  {
   "cell_type": "code",
   "execution_count": 26,
   "id": "609f8599",
   "metadata": {},
   "outputs": [
    {
     "data": {
      "text/plain": [
       "<mysql.connector.connection.MySQLConnection at 0x7f939bcd59a0>"
      ]
     },
     "execution_count": 26,
     "metadata": {},
     "output_type": "execute_result"
    }
   ],
   "source": [
    "# setting the connection \n",
    "test_db_conn"
   ]
  },
  {
   "cell_type": "markdown",
   "id": "fe5b7912",
   "metadata": {},
   "source": [
    "### Creating the table for dumping the glass data "
   ]
  },
  {
   "cell_type": "code",
   "execution_count": 33,
   "id": "ffc4d0c7",
   "metadata": {},
   "outputs": [],
   "source": [
    "curs = test_db_conn.cursor() \n",
    "query = \"\"\"CREATE TABLE IF NOT EXISTS GlassData (\n",
    "                    Index_Number INT(10),\n",
    "                    RI float(10,5),\n",
    "                    Na float(10,5),\n",
    "                    Mg float(10,5),\n",
    "                    Al float(10,5),\n",
    "                    Si float(10,5), \n",
    "                    K float(10,5), \n",
    "                    Ca float(10,5), \n",
    "                    Ba float(10,5), \n",
    "                    Fe float(10,5), \n",
    "                    Class INT(5)\n",
    "                    ) \"\"\"\n",
    "curs.execute(query)"
   ]
  },
  {
   "cell_type": "code",
   "execution_count": 31,
   "id": "8b7cfbf4",
   "metadata": {},
   "outputs": [
    {
     "data": {
      "text/plain": [
       "index      int64\n",
       "RI       float64\n",
       "Na       float64\n",
       "Mg       float64\n",
       "Al       float64\n",
       "Si       float64\n",
       "K        float64\n",
       "Ca       float64\n",
       "Ba       float64\n",
       "Fe       float64\n",
       "Class      int64\n",
       "dtype: object"
      ]
     },
     "execution_count": 31,
     "metadata": {},
     "output_type": "execute_result"
    }
   ],
   "source": [
    "# glass_data.to_sql(name = 'glassDetails',con = test_db_conn)\n",
    "glass_data.dtypes"
   ]
  },
  {
   "cell_type": "code",
   "execution_count": 40,
   "id": "ab8a7e8c",
   "metadata": {},
   "outputs": [],
   "source": [
    "import csv \n",
    "with open ('glass.csv', 'r') as f:\n",
    "    next(f)\n",
    "    glass_data = csv.reader(f, delimiter = '\\n')\n",
    "    for line in enumerate(glass_data):\n",
    "        for list_ in line[1]:\n",
    "            curs.execute('INSERT INTO GlassData values ({values})'.format(values=(list_)))\n",
    "test_db_conn.commit()\n",
    "curs.close()\n",
    "test_db_conn.close()"
   ]
  },
  {
   "cell_type": "markdown",
   "id": "70a55a51",
   "metadata": {},
   "source": [
    "## reading the uploaded glass data from the databae "
   ]
  },
  {
   "cell_type": "code",
   "execution_count": 41,
   "id": "db87b05a",
   "metadata": {},
   "outputs": [],
   "source": [
    "test_db_conn = connection.connect(host = 'localhost',user = 'root', \n",
    "                                  passwd = 'Computer123@',\n",
    "                         database = 'Mytestdb',use_pure = True)"
   ]
  },
  {
   "cell_type": "code",
   "execution_count": 42,
   "id": "230c9d29",
   "metadata": {},
   "outputs": [
    {
     "data": {
      "text/html": [
       "<div>\n",
       "<style scoped>\n",
       "    .dataframe tbody tr th:only-of-type {\n",
       "        vertical-align: middle;\n",
       "    }\n",
       "\n",
       "    .dataframe tbody tr th {\n",
       "        vertical-align: top;\n",
       "    }\n",
       "\n",
       "    .dataframe thead th {\n",
       "        text-align: right;\n",
       "    }\n",
       "</style>\n",
       "<table border=\"1\" class=\"dataframe\">\n",
       "  <thead>\n",
       "    <tr style=\"text-align: right;\">\n",
       "      <th></th>\n",
       "      <th>Index_Number</th>\n",
       "      <th>RI</th>\n",
       "      <th>Na</th>\n",
       "      <th>Mg</th>\n",
       "      <th>Al</th>\n",
       "      <th>Si</th>\n",
       "      <th>K</th>\n",
       "      <th>Ca</th>\n",
       "      <th>Ba</th>\n",
       "      <th>Fe</th>\n",
       "      <th>Class</th>\n",
       "    </tr>\n",
       "  </thead>\n",
       "  <tbody>\n",
       "    <tr>\n",
       "      <th>0</th>\n",
       "      <td>1</td>\n",
       "      <td>1.52101</td>\n",
       "      <td>13.64</td>\n",
       "      <td>4.49</td>\n",
       "      <td>1.10</td>\n",
       "      <td>71.78</td>\n",
       "      <td>0.06</td>\n",
       "      <td>8.75</td>\n",
       "      <td>0.00</td>\n",
       "      <td>0.0</td>\n",
       "      <td>1</td>\n",
       "    </tr>\n",
       "    <tr>\n",
       "      <th>1</th>\n",
       "      <td>2</td>\n",
       "      <td>1.51761</td>\n",
       "      <td>13.89</td>\n",
       "      <td>3.60</td>\n",
       "      <td>1.36</td>\n",
       "      <td>72.73</td>\n",
       "      <td>0.48</td>\n",
       "      <td>7.83</td>\n",
       "      <td>0.00</td>\n",
       "      <td>0.0</td>\n",
       "      <td>1</td>\n",
       "    </tr>\n",
       "    <tr>\n",
       "      <th>2</th>\n",
       "      <td>3</td>\n",
       "      <td>1.51618</td>\n",
       "      <td>13.53</td>\n",
       "      <td>3.55</td>\n",
       "      <td>1.54</td>\n",
       "      <td>72.99</td>\n",
       "      <td>0.39</td>\n",
       "      <td>7.78</td>\n",
       "      <td>0.00</td>\n",
       "      <td>0.0</td>\n",
       "      <td>1</td>\n",
       "    </tr>\n",
       "    <tr>\n",
       "      <th>3</th>\n",
       "      <td>4</td>\n",
       "      <td>1.51766</td>\n",
       "      <td>13.21</td>\n",
       "      <td>3.69</td>\n",
       "      <td>1.29</td>\n",
       "      <td>72.61</td>\n",
       "      <td>0.57</td>\n",
       "      <td>8.22</td>\n",
       "      <td>0.00</td>\n",
       "      <td>0.0</td>\n",
       "      <td>1</td>\n",
       "    </tr>\n",
       "    <tr>\n",
       "      <th>4</th>\n",
       "      <td>5</td>\n",
       "      <td>1.51742</td>\n",
       "      <td>13.27</td>\n",
       "      <td>3.62</td>\n",
       "      <td>1.24</td>\n",
       "      <td>73.08</td>\n",
       "      <td>0.55</td>\n",
       "      <td>8.07</td>\n",
       "      <td>0.00</td>\n",
       "      <td>0.0</td>\n",
       "      <td>1</td>\n",
       "    </tr>\n",
       "    <tr>\n",
       "      <th>...</th>\n",
       "      <td>...</td>\n",
       "      <td>...</td>\n",
       "      <td>...</td>\n",
       "      <td>...</td>\n",
       "      <td>...</td>\n",
       "      <td>...</td>\n",
       "      <td>...</td>\n",
       "      <td>...</td>\n",
       "      <td>...</td>\n",
       "      <td>...</td>\n",
       "      <td>...</td>\n",
       "    </tr>\n",
       "    <tr>\n",
       "      <th>209</th>\n",
       "      <td>210</td>\n",
       "      <td>1.51623</td>\n",
       "      <td>14.14</td>\n",
       "      <td>0.00</td>\n",
       "      <td>2.88</td>\n",
       "      <td>72.61</td>\n",
       "      <td>0.08</td>\n",
       "      <td>9.18</td>\n",
       "      <td>1.06</td>\n",
       "      <td>0.0</td>\n",
       "      <td>7</td>\n",
       "    </tr>\n",
       "    <tr>\n",
       "      <th>210</th>\n",
       "      <td>211</td>\n",
       "      <td>1.51685</td>\n",
       "      <td>14.92</td>\n",
       "      <td>0.00</td>\n",
       "      <td>1.99</td>\n",
       "      <td>73.06</td>\n",
       "      <td>0.00</td>\n",
       "      <td>8.40</td>\n",
       "      <td>1.59</td>\n",
       "      <td>0.0</td>\n",
       "      <td>7</td>\n",
       "    </tr>\n",
       "    <tr>\n",
       "      <th>211</th>\n",
       "      <td>212</td>\n",
       "      <td>1.52065</td>\n",
       "      <td>14.36</td>\n",
       "      <td>0.00</td>\n",
       "      <td>2.02</td>\n",
       "      <td>73.42</td>\n",
       "      <td>0.00</td>\n",
       "      <td>8.44</td>\n",
       "      <td>1.64</td>\n",
       "      <td>0.0</td>\n",
       "      <td>7</td>\n",
       "    </tr>\n",
       "    <tr>\n",
       "      <th>212</th>\n",
       "      <td>213</td>\n",
       "      <td>1.51651</td>\n",
       "      <td>14.38</td>\n",
       "      <td>0.00</td>\n",
       "      <td>1.94</td>\n",
       "      <td>73.61</td>\n",
       "      <td>0.00</td>\n",
       "      <td>8.48</td>\n",
       "      <td>1.57</td>\n",
       "      <td>0.0</td>\n",
       "      <td>7</td>\n",
       "    </tr>\n",
       "    <tr>\n",
       "      <th>213</th>\n",
       "      <td>214</td>\n",
       "      <td>1.51711</td>\n",
       "      <td>14.23</td>\n",
       "      <td>0.00</td>\n",
       "      <td>2.08</td>\n",
       "      <td>73.36</td>\n",
       "      <td>0.00</td>\n",
       "      <td>8.62</td>\n",
       "      <td>1.67</td>\n",
       "      <td>0.0</td>\n",
       "      <td>7</td>\n",
       "    </tr>\n",
       "  </tbody>\n",
       "</table>\n",
       "<p>214 rows × 11 columns</p>\n",
       "</div>"
      ],
      "text/plain": [
       "     Index_Number       RI     Na    Mg    Al     Si     K    Ca    Ba   Fe  \\\n",
       "0               1  1.52101  13.64  4.49  1.10  71.78  0.06  8.75  0.00  0.0   \n",
       "1               2  1.51761  13.89  3.60  1.36  72.73  0.48  7.83  0.00  0.0   \n",
       "2               3  1.51618  13.53  3.55  1.54  72.99  0.39  7.78  0.00  0.0   \n",
       "3               4  1.51766  13.21  3.69  1.29  72.61  0.57  8.22  0.00  0.0   \n",
       "4               5  1.51742  13.27  3.62  1.24  73.08  0.55  8.07  0.00  0.0   \n",
       "..            ...      ...    ...   ...   ...    ...   ...   ...   ...  ...   \n",
       "209           210  1.51623  14.14  0.00  2.88  72.61  0.08  9.18  1.06  0.0   \n",
       "210           211  1.51685  14.92  0.00  1.99  73.06  0.00  8.40  1.59  0.0   \n",
       "211           212  1.52065  14.36  0.00  2.02  73.42  0.00  8.44  1.64  0.0   \n",
       "212           213  1.51651  14.38  0.00  1.94  73.61  0.00  8.48  1.57  0.0   \n",
       "213           214  1.51711  14.23  0.00  2.08  73.36  0.00  8.62  1.67  0.0   \n",
       "\n",
       "     Class  \n",
       "0        1  \n",
       "1        1  \n",
       "2        1  \n",
       "3        1  \n",
       "4        1  \n",
       "..     ...  \n",
       "209      7  \n",
       "210      7  \n",
       "211      7  \n",
       "212      7  \n",
       "213      7  \n",
       "\n",
       "[214 rows x 11 columns]"
      ]
     },
     "execution_count": 42,
     "metadata": {},
     "output_type": "execute_result"
    }
   ],
   "source": [
    "pd.read_sql('select * from GlassData',test_db_conn)"
   ]
  },
  {
   "cell_type": "markdown",
   "id": "3649b7ef",
   "metadata": {},
   "source": [
    "## Delete table "
   ]
  },
  {
   "cell_type": "code",
   "execution_count": 47,
   "id": "15ea34d7",
   "metadata": {},
   "outputs": [],
   "source": [
    "test_db_conn = connection.connect(host = 'localhost',user = 'root', \n",
    "                                  passwd = 'Computer123@',\n",
    "                         database = 'Mytestdb',use_pure = True)\n",
    "\n",
    "statement = \"DELETE FROM StudentDetails WHERE firstName = 'Colins'\"\n",
    "curs = test_db_conn.cursor() \n",
    "curs.execute(statement)\n",
    "test_db_conn.commit()\n",
    "test_db_conn.close()"
   ]
  },
  {
   "cell_type": "code",
   "execution_count": 48,
   "id": "cbacc9cc",
   "metadata": {},
   "outputs": [
    {
     "name": "stdout",
     "output_type": "stream",
     "text": [
      "(1132, 'Thomas', 'Reji', datetime.date(2020, 12, 21), 'pg', 'Four')\n",
      "(1133, 'Maria', 'Thomas', datetime.date(2020, 11, 20), 'pg', 'Four')\n",
      "(1134, 'steve', 'martin', datetime.date(2020, 8, 25), 'ug', 'Second')\n"
     ]
    }
   ],
   "source": [
    "test_db_conn = connection.connect(host = 'localhost',user = 'root', \n",
    "                                  passwd = 'Computer123@',\n",
    "                         database = 'Mytestdb',use_pure = True)\n",
    "curs = test_db_conn.cursor() \n",
    "statement  = \"select * from StudentDetails\" \n",
    "curs.execute(statement)\n",
    "for i in curs.fetchall():\n",
    "    print(i)\n",
    "test_db_conn.close()"
   ]
  },
  {
   "cell_type": "markdown",
   "id": "fdca12a2",
   "metadata": {},
   "source": [
    "## Update the values "
   ]
  },
  {
   "cell_type": "code",
   "execution_count": 50,
   "id": "19ea469c",
   "metadata": {},
   "outputs": [],
   "source": [
    "test_db_conn = connection.connect(host = 'localhost',user = 'root', \n",
    "                                  passwd = 'Computer123@',\n",
    "                         database = 'Mytestdb',use_pure = True)\n",
    "curs = test_db_conn.cursor() \n",
    "statement = \"\"\"\n",
    "        UPDATE StudentDetails SET firstName = 'Merin' WHERE studentId = 1132\n",
    "\"\"\"\n",
    "curs.execute(statement)\n",
    "test_db_conn.commit() \n",
    "test_db_conn.close() "
   ]
  },
  {
   "cell_type": "code",
   "execution_count": 51,
   "id": "b3f5edae",
   "metadata": {},
   "outputs": [
    {
     "name": "stdout",
     "output_type": "stream",
     "text": [
      "(1132, 'Merin', 'Reji', datetime.date(2020, 12, 21), 'pg', 'Four')\n",
      "(1133, 'Maria', 'Thomas', datetime.date(2020, 11, 20), 'pg', 'Four')\n",
      "(1134, 'steve', 'martin', datetime.date(2020, 8, 25), 'ug', 'Second')\n"
     ]
    }
   ],
   "source": [
    "test_db_conn = connection.connect(host = 'localhost',user = 'root', \n",
    "                                  passwd = 'Computer123@',\n",
    "                         database = 'Mytestdb',use_pure = True)\n",
    "curs = test_db_conn.cursor() \n",
    "statement  = \"select * from StudentDetails\" \n",
    "curs.execute(statement)\n",
    "for i in curs.fetchall():\n",
    "    print(i)\n",
    "test_db_conn.close()"
   ]
  },
  {
   "cell_type": "code",
   "execution_count": null,
   "id": "dcf46f22",
   "metadata": {},
   "outputs": [],
   "source": []
  }
 ],
 "metadata": {
  "kernelspec": {
   "display_name": "Python 3.8.8 64-bit ('base': conda)",
   "language": "python",
   "name": "python388jvsc74a57bd0b7dce63e39a4a8c98f5a1ef1e65571106e15efed32663927d397570964b86d03"
  },
  "language_info": {
   "codemirror_mode": {
    "name": "ipython",
    "version": 3
   },
   "file_extension": ".py",
   "mimetype": "text/x-python",
   "name": "python",
   "nbconvert_exporter": "python",
   "pygments_lexer": "ipython3",
   "version": "3.8.8"
  }
 },
 "nbformat": 4,
 "nbformat_minor": 5
}
