{
 "cells": [
  {
   "cell_type": "code",
   "execution_count": 62,
   "id": "9808515f",
   "metadata": {},
   "outputs": [
    {
     "data": {
      "text/plain": [
       "['mysql_assignment.ipynb',\n",
       " 'mysql_connections.ipynb',\n",
       " 'glass.csv',\n",
       " 'modified.txt',\n",
       " '.ipynb_checkpoints',\n",
       " 'carbon_nanotubes.csv']"
      ]
     },
     "execution_count": 62,
     "metadata": {},
     "output_type": "execute_result"
    }
   ],
   "source": [
    "import os\n",
    "import csv\n",
    "import pandas as pd \n",
    "import mysql.connector as connection\n",
    "os.listdir()"
   ]
  },
  {
   "cell_type": "code",
   "execution_count": null,
   "id": "2f0fc2db",
   "metadata": {},
   "outputs": [],
   "source": []
  },
  {
   "cell_type": "code",
   "execution_count": null,
   "id": "d97fa873",
   "metadata": {},
   "outputs": [],
   "source": []
  }
 ],
 "metadata": {
  "kernelspec": {
   "display_name": "Python 3.8.8 64-bit ('base': conda)",
   "language": "python",
   "name": "python388jvsc74a57bd0b7dce63e39a4a8c98f5a1ef1e65571106e15efed32663927d397570964b86d03"
  },
  "language_info": {
   "codemirror_mode": {
    "name": "ipython",
    "version": 3
   },
   "file_extension": ".py",
   "mimetype": "text/x-python",
   "name": "python",
   "nbconvert_exporter": "python",
   "pygments_lexer": "ipython3",
   "version": "3.8.8"
  }
 },
 "nbformat": 4,
 "nbformat_minor": 5
}
