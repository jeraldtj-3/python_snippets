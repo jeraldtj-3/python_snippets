{
 "metadata": {
  "language_info": {
   "codemirror_mode": {
    "name": "ipython",
    "version": 3
   },
   "file_extension": ".py",
   "mimetype": "text/x-python",
   "name": "python",
   "nbconvert_exporter": "python",
   "pygments_lexer": "ipython3",
   "version": "3.8.8"
  },
  "orig_nbformat": 4,
  "kernelspec": {
   "name": "python3",
   "display_name": "Python 3.8.8 64-bit ('base': conda)"
  },
  "interpreter": {
   "hash": "b7dce63e39a4a8c98f5a1ef1e65571106e15efed32663927d397570964b86d03"
  }
 },
 "nbformat": 4,
 "nbformat_minor": 2,
 "cells": [
  {
   "source": [
    "# ARGS AND KWARGS"
   ],
   "cell_type": "markdown",
   "metadata": {}
  },
  {
   "cell_type": "code",
   "execution_count": 5,
   "metadata": {},
   "outputs": [],
   "source": [
    "def test_kwargs(**kwargs):\n",
    "    return kwargs   # a dictionary "
   ]
  },
  {
   "cell_type": "code",
   "execution_count": 6,
   "metadata": {},
   "outputs": [
    {
     "output_type": "execute_result",
     "data": {
      "text/plain": [
       "{'name': 'thomas', 'age': 25}"
      ]
     },
     "metadata": {},
     "execution_count": 6
    }
   ],
   "source": [
    "test_kwargs (name = 'thomas', age = 25)"
   ]
  },
  {
   "cell_type": "code",
   "execution_count": 11,
   "metadata": {},
   "outputs": [],
   "source": [
    "def test_args(*args):\n",
    "    return args  # return a tuple"
   ]
  },
  {
   "cell_type": "code",
   "execution_count": 12,
   "metadata": {},
   "outputs": [
    {
     "output_type": "execute_result",
     "data": {
      "text/plain": [
       "(23, 2, 3, 'thomas')"
      ]
     },
     "metadata": {},
     "execution_count": 12
    }
   ],
   "source": [
    "test_args(23,2,3,'thomas')"
   ]
  },
  {
   "source": [
    "# Lambda function"
   ],
   "cell_type": "markdown",
   "metadata": {}
  },
  {
   "cell_type": "code",
   "execution_count": 15,
   "metadata": {},
   "outputs": [
    {
     "output_type": "execute_result",
     "data": {
      "text/plain": [
       "(23, 'thoma')"
      ]
     },
     "metadata": {},
     "execution_count": 15
    }
   ],
   "source": [
    "def test1(name, age):\n",
    "    return age, name \n",
    "\n",
    "\n",
    "test1('thoma', 23)"
   ]
  },
  {
   "cell_type": "code",
   "execution_count": 16,
   "metadata": {},
   "outputs": [],
   "source": [
    "a = 123\n",
    "b = 23\n",
    "def testadd(x,y):\n",
    "    return x+y "
   ]
  },
  {
   "cell_type": "code",
   "execution_count": 17,
   "metadata": {},
   "outputs": [
    {
     "output_type": "execute_result",
     "data": {
      "text/plain": [
       "24"
      ]
     },
     "metadata": {},
     "execution_count": 17
    }
   ],
   "source": [
    "testadd(23,1)"
   ]
  },
  {
   "cell_type": "code",
   "execution_count": 23,
   "metadata": {},
   "outputs": [],
   "source": [
    "# doing the same using lambda function \n",
    "m = lambda x,y : x+y   # function without a  name \n",
    "\n",
    "# here lambda is predefined key word in python not a function "
   ]
  },
  {
   "cell_type": "code",
   "execution_count": 24,
   "metadata": {},
   "outputs": [
    {
     "output_type": "execute_result",
     "data": {
      "text/plain": [
       "146"
      ]
     },
     "metadata": {},
     "execution_count": 24
    }
   ],
   "source": [
    "m(a,b)   # here m is a variable "
   ]
  },
  {
   "cell_type": "code",
   "execution_count": 28,
   "metadata": {},
   "outputs": [
    {
     "output_type": "stream",
     "name": "stdout",
     "text": [
      "12\n"
     ]
    }
   ],
   "source": [
    "# scope of the variable\n",
    "\n",
    "r = 12 \n",
    "\n",
    "def test3(a,b):\n",
    "    r = a+b \n",
    "    return r \n",
    "test3(10,10)\n",
    "print(r)"
   ]
  },
  {
   "cell_type": "code",
   "execution_count": 35,
   "metadata": {},
   "outputs": [],
   "source": [
    "## docstring function \n",
    "\n",
    "def test4():\n",
    "    \"\"\"\n",
    "    this is my doc string for this function \n",
    "    \"\"\"\n",
    "    print('my_function')"
   ]
  },
  {
   "cell_type": "code",
   "execution_count": 37,
   "metadata": {},
   "outputs": [
    {
     "output_type": "stream",
     "name": "stdout",
     "text": [
      "Help on function test4 in module __main__:\n\ntest4()\n    this is my doc string for this function\n\n"
     ]
    }
   ],
   "source": [
    "help(test4)"
   ]
  },
  {
   "cell_type": "code",
   "execution_count": 43,
   "metadata": {
    "tags": []
   },
   "outputs": [
    {
     "output_type": "stream",
     "name": "stdout",
     "text": [
      "Help on package pandas:\n\nNAME\n    pandas\n\nDESCRIPTION\n    pandas - a powerful data analysis and manipulation library for Python\n    =====================================================================\n    \n    **pandas** is a Python package providing fast, flexible, and expressive data\n    structures designed to make working with \"relational\" or \"labeled\" data both\n    easy and intuitive. It aims to be the fundamental high-level building block for\n    doing practical, **real world** data analysis in Python. Additionally, it has\n    the broader goal of becoming **the most powerful and flexible open source data\n    analysis / manipulation tool available in any language**. It is already well on\n    its way toward this goal.\n    \n    Main Features\n    -------------\n    Here are just a few of the things that pandas does well:\n    \n      - Easy handling of missing data in floating point as well as non-floating\n        point data.\n      - Size mutability: columns can be inserted and deleted from DataFrame and\n        higher dimensional objects\n      - Automatic and explicit data alignment: objects can be explicitly aligned\n        to a set of labels, or the user can simply ignore the labels and let\n        `Series`, `DataFrame`, etc. automatically align the data for you in\n        computations.\n      - Powerful, flexible group by functionality to perform split-apply-combine\n        operations on data sets, for both aggregating and transforming data.\n      - Make it easy to convert ragged, differently-indexed data in other Python\n        and NumPy data structures into DataFrame objects.\n      - Intelligent label-based slicing, fancy indexing, and subsetting of large\n        data sets.\n      - Intuitive merging and joining data sets.\n      - Flexible reshaping and pivoting of data sets.\n      - Hierarchical labeling of axes (possible to have multiple labels per tick).\n      - Robust IO tools for loading data from flat files (CSV and delimited),\n        Excel files, databases, and saving/loading data from the ultrafast HDF5\n        format.\n      - Time series-specific functionality: date range generation and frequency\n        conversion, moving window statistics, date shifting and lagging.\n\nPACKAGE CONTENTS\n    _config (package)\n    _libs (package)\n    _testing\n    _typing\n    _version\n    api (package)\n    arrays (package)\n    compat (package)\n    conftest\n    core (package)\n    errors (package)\n    io (package)\n    plotting (package)\n    testing\n    tests (package)\n    tseries (package)\n    util (package)\n\nSUBMODULES\n    _hashtable\n    _lib\n    _tslib\n    offsets\n\nFUNCTIONS\n    __getattr__(name)\n        # GH 27101\n\nDATA\n    IndexSlice = <pandas.core.indexing._IndexSlice object>\n    NA = <NA>\n    NaT = NaT\n    __docformat__ = 'restructuredtext'\n    __git_version__ = '2cb96529396d93b46abab7bbc73a208e708c642e'\n    describe_option = <pandas._config.config.CallableDynamicDoc object>\n    get_option = <pandas._config.config.CallableDynamicDoc object>\n    options = <pandas._config.config.DictWrapper object>\n    reset_option = <pandas._config.config.CallableDynamicDoc object>\n    set_option = <pandas._config.config.CallableDynamicDoc object>\n\nVERSION\n    1.2.4\n\nFILE\n    /home/thomas/anaconda3/lib/python3.8/site-packages/pandas/__init__.py\n\n\n"
     ]
    }
   ],
   "source": [
    "import pandas as pd \n",
    "help(pd)"
   ]
  },
  {
   "source": [
    "# Iterator and iterable"
   ],
   "cell_type": "markdown",
   "metadata": {}
  },
  {
   "cell_type": "code",
   "execution_count": 46,
   "metadata": {},
   "outputs": [
    {
     "output_type": "error",
     "ename": "TypeError",
     "evalue": "'int' object is not iterable",
     "traceback": [
      "\u001b[0;31m---------------------------------------------------------------------------\u001b[0m",
      "\u001b[0;31mTypeError\u001b[0m                                 Traceback (most recent call last)",
      "\u001b[0;32m<ipython-input-46-88f7d5d3c875>\u001b[0m in \u001b[0;36m<module>\u001b[0;34m\u001b[0m\n\u001b[1;32m      1\u001b[0m \u001b[0ma\u001b[0m \u001b[0;34m=\u001b[0m \u001b[0;36m5\u001b[0m\u001b[0;34m\u001b[0m\u001b[0;34m\u001b[0m\u001b[0m\n\u001b[0;32m----> 2\u001b[0;31m \u001b[0;32mfor\u001b[0m \u001b[0mi\u001b[0m \u001b[0;32min\u001b[0m \u001b[0ma\u001b[0m\u001b[0;34m:\u001b[0m\u001b[0;34m\u001b[0m\u001b[0;34m\u001b[0m\u001b[0m\n\u001b[0m\u001b[1;32m      3\u001b[0m     \u001b[0mprint\u001b[0m\u001b[0;34m(\u001b[0m\u001b[0mi\u001b[0m\u001b[0;34m)\u001b[0m\u001b[0;34m\u001b[0m\u001b[0;34m\u001b[0m\u001b[0m\n",
      "\u001b[0;31mTypeError\u001b[0m: 'int' object is not iterable"
     ]
    }
   ],
   "source": [
    "a = 5 \n",
    "for i in a:\n",
    "    print(i)"
   ]
  },
  {
   "cell_type": "code",
   "execution_count": 47,
   "metadata": {},
   "outputs": [
    {
     "output_type": "stream",
     "name": "stdout",
     "text": [
      "t\nh\no\nm\na\ns\n"
     ]
    }
   ],
   "source": [
    "for i in 'thomas':\n",
    "    print(i)"
   ]
  },
  {
   "cell_type": "code",
   "execution_count": 50,
   "metadata": {},
   "outputs": [
    {
     "output_type": "error",
     "ename": "TypeError",
     "evalue": "'str' object is not an iterator",
     "traceback": [
      "\u001b[0;31m---------------------------------------------------------------------------\u001b[0m",
      "\u001b[0;31mTypeError\u001b[0m                                 Traceback (most recent call last)",
      "\u001b[0;32m<ipython-input-50-5606f7b13425>\u001b[0m in \u001b[0;36m<module>\u001b[0;34m\u001b[0m\n\u001b[1;32m      1\u001b[0m \u001b[0ma\u001b[0m \u001b[0;34m=\u001b[0m \u001b[0;34m'thomas'\u001b[0m\u001b[0;34m\u001b[0m\u001b[0;34m\u001b[0m\u001b[0m\n\u001b[0;32m----> 2\u001b[0;31m \u001b[0mnext\u001b[0m\u001b[0;34m(\u001b[0m\u001b[0ma\u001b[0m\u001b[0;34m)\u001b[0m\u001b[0;34m\u001b[0m\u001b[0;34m\u001b[0m\u001b[0m\n\u001b[0m",
      "\u001b[0;31mTypeError\u001b[0m: 'str' object is not an iterator"
     ]
    }
   ],
   "source": [
    "a = 'thomas'\n",
    "next(a)"
   ]
  },
  {
   "cell_type": "code",
   "execution_count": 52,
   "metadata": {},
   "outputs": [],
   "source": [
    "# iterable and iterator \n",
    "\n",
    "## int is not iterable\n",
    "## stirng is not iterator "
   ]
  },
  {
   "source": [
    "By default string is not and  iterator but it is an iterable object. \n",
    "if an object is iterable we can convert it into iterable"
   ],
   "cell_type": "markdown",
   "metadata": {}
  },
  {
   "cell_type": "code",
   "execution_count": 64,
   "metadata": {},
   "outputs": [],
   "source": [
    "name = 'thomas'\n",
    "\n",
    "# converting string into an iterator \n",
    "s = iter(name)"
   ]
  },
  {
   "cell_type": "code",
   "execution_count": 63,
   "metadata": {},
   "outputs": [
    {
     "output_type": "execute_result",
     "data": {
      "text/plain": [
       "'t'"
      ]
     },
     "metadata": {},
     "execution_count": 63
    }
   ],
   "source": [
    "next(s)"
   ]
  },
  {
   "cell_type": "code",
   "execution_count": 69,
   "metadata": {},
   "outputs": [
    {
     "output_type": "execute_result",
     "data": {
      "text/plain": [
       "'t'"
      ]
     },
     "metadata": {},
     "execution_count": 69
    }
   ],
   "source": [
    "name = 'thomas'\n",
    "it = iter(name)\n",
    "next(it)"
   ]
  },
  {
   "cell_type": "code",
   "execution_count": 70,
   "metadata": {},
   "outputs": [
    {
     "output_type": "execute_result",
     "data": {
      "text/plain": [
       "'h'"
      ]
     },
     "metadata": {},
     "execution_count": 70
    }
   ],
   "source": [
    "next(it)"
   ]
  },
  {
   "cell_type": "code",
   "execution_count": 71,
   "metadata": {},
   "outputs": [
    {
     "output_type": "stream",
     "name": "stdout",
     "text": [
      "t\nh\no\nm\na\ns\n"
     ]
    }
   ],
   "source": [
    "for i in 'thomas':\n",
    "    print(i)"
   ]
  },
  {
   "cell_type": "code",
   "execution_count": 73,
   "metadata": {},
   "outputs": [
    {
     "output_type": "error",
     "ename": "TypeError",
     "evalue": "'list' object is not an iterator",
     "traceback": [
      "\u001b[0;31m---------------------------------------------------------------------------\u001b[0m",
      "\u001b[0;31mTypeError\u001b[0m                                 Traceback (most recent call last)",
      "\u001b[0;32m<ipython-input-73-dd50491481f1>\u001b[0m in \u001b[0;36m<module>\u001b[0;34m\u001b[0m\n\u001b[1;32m      1\u001b[0m \u001b[0;31m# creating a list and make it as an iterator\u001b[0m\u001b[0;34m\u001b[0m\u001b[0;34m\u001b[0m\u001b[0;34m\u001b[0m\u001b[0m\n\u001b[1;32m      2\u001b[0m \u001b[0ml\u001b[0m \u001b[0;34m=\u001b[0m \u001b[0;34m[\u001b[0m\u001b[0;36m2\u001b[0m\u001b[0;34m,\u001b[0m\u001b[0;34m'a'\u001b[0m\u001b[0;34m,\u001b[0m\u001b[0;34m'3'\u001b[0m\u001b[0;34m]\u001b[0m\u001b[0;34m\u001b[0m\u001b[0;34m\u001b[0m\u001b[0m\n\u001b[0;32m----> 3\u001b[0;31m \u001b[0mnext\u001b[0m\u001b[0;34m(\u001b[0m\u001b[0ml\u001b[0m\u001b[0;34m)\u001b[0m\u001b[0;34m\u001b[0m\u001b[0;34m\u001b[0m\u001b[0m\n\u001b[0m",
      "\u001b[0;31mTypeError\u001b[0m: 'list' object is not an iterator"
     ]
    }
   ],
   "source": [
    "# creating a list and make it as an iterator \n",
    "l = [2,'a','3']  # list is iterable not an iterator \n",
    "next(l)"
   ]
  },
  {
   "cell_type": "code",
   "execution_count": 74,
   "metadata": {},
   "outputs": [],
   "source": [
    "# list is not an iterator "
   ]
  },
  {
   "cell_type": "code",
   "execution_count": 76,
   "metadata": {},
   "outputs": [
    {
     "output_type": "execute_result",
     "data": {
      "text/plain": [
       "2"
      ]
     },
     "metadata": {},
     "execution_count": 76
    }
   ],
   "source": [
    "t = (2,3,1,4)\n",
    "t = iter(t)\n",
    "next(t)"
   ]
  },
  {
   "source": [
    "# Generator "
   ],
   "cell_type": "markdown",
   "metadata": {}
  },
  {
   "cell_type": "code",
   "execution_count": 82,
   "metadata": {},
   "outputs": [],
   "source": [
    "def test_func(n):\n",
    "    l = []\n",
    "    for i in range(n):\n",
    "        l.append(i**2)\n",
    "    return l \n"
   ]
  },
  {
   "cell_type": "code",
   "execution_count": 83,
   "metadata": {},
   "outputs": [
    {
     "output_type": "execute_result",
     "data": {
      "text/plain": [
       "[0, 1, 4, 9]"
      ]
     },
     "metadata": {},
     "execution_count": 83
    }
   ],
   "source": [
    "test_func(4)"
   ]
  },
  {
   "cell_type": "code",
   "execution_count": null,
   "metadata": {},
   "outputs": [],
   "source": []
  }
 ]
}