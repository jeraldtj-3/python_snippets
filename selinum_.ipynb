{
 "cells": [
  {
   "cell_type": "code",
   "execution_count": 3,
   "id": "acb10c44-cdad-41e2-a5e0-75112fc5c01a",
   "metadata": {},
   "outputs": [],
   "source": [
    "from selenium import webdriver\n",
    "from selenium.webdriver.support.wait import WebDriverWait\n",
    "from selenium.webdriver.support import expected_conditions as EC\n",
    "from selenium.webdriver.common.by import By\n",
    "from selenium.webdriver.common.keys import Keys\n",
    "import os\n",
    "import wget\n",
    "import time\n",
    "\n",
    "# driver setup \n",
    "chrome_options = webdriver.ChromeOptions()\n",
    "prefs = {\"profile.default_content_setting_values.notifications\": 2}\n",
    "chrome_options.add_experimental_option(\"prefs\", prefs)\n",
    "driver = webdriver.Chrome(options=chrome_options)\n",
    "driver.get(\"http://www.facebook.com\")\n",
    "\n",
    "# authentication \n",
    "username = WebDriverWait(driver, 10).until(EC.element_to_be_clickable((By.CSS_SELECTOR, \"input[name='email']\")))\n",
    "password = WebDriverWait(driver, 10).until(EC.element_to_be_clickable((By.CSS_SELECTOR, \"input[name='pass']\")))\n",
    "username.clear()\n",
    "username.send_keys(\"8592085238\")\n",
    "password.clear()\n",
    "password.send_keys(\"amalabinoy\")\n",
    "button = WebDriverWait(driver, 2).until(EC.element_to_be_clickable((By.CSS_SELECTOR, \"button[type='submit']\"))).click()"
   ]
  },
  {
   "cell_type": "code",
   "execution_count": 4,
   "id": "25cbdcc6-0223-4880-ad9e-499ca026e575",
   "metadata": {},
   "outputs": [],
   "source": [
    "driver.get(\"https://www.facebook.com/friends/list/\")\n",
    "friends_element = driver.find_elements(By.CSS_SELECTOR,'a[class=\"oajrlxb2 gs1a9yip g5ia77u1 mtkw9kbi tlpljxtp qensuy8j ppp5ayq2 goun2846 ccm00jje s44p3ltw mk2mc5f4 rt8b4zig n8ej3o3l agehan2d sk4xxmp2 rq0escxv nhd2j8a9 mg4g778l pfnyh3mw p7hjln8o kvgmc6g5 cxmmr5t8 oygrvhab hcukyx3x tgvbjcpo hpfvmrgz jb3vyjys rz4wbd8a qt6c0cv9 a8nywdso l9j0dhe7 i1ao9s8h esuyzwwr f1sip0of du4w35lb btwxx1t3 abiwlrkh p8dawk7l lzcic4wl ue3kfks5 pw54ja7n uo3d90p7 l82x9zwi a8c37x1j\"]')\n",
    "profile_urls = [i.get_attribute('href') for i in friends_element]\n",
    "def filter_profile(profile_url):\n",
    "    '''removing the profile urls with id '''\n",
    "    if profile_url.split('/')[3].startswith('profile'):\n",
    "        return False\n",
    "    else:\n",
    "        return True\n",
    "profile_urls = [i for i in profile_urls if filter_profile(i)]\n",
    "profile_urls"
   ]
  },
  {
   "cell_type": "code",
   "execution_count": 101,
   "id": "61c5c2b2-b828-41c9-bcfe-3522dda8a130",
   "metadata": {},
   "outputs": [],
   "source": [
    "# testing the first profile  \n",
    "driver.get(profile_urls[0])\n",
    "\n",
    "about_url = profile_urls[0]+'/'+'about/'\n",
    "driver.get(about_url)\n",
    "\n",
    "work_element_link =  profile_urls[0]+'/about_work_and_education/'\n",
    "driver.get(work_element_link)\n",
    "\n",
    "# work and education details \n",
    "work_education_element = driver.find_elements(By.CSS_SELECTOR,'div[class=\"dati1w0a tu1s4ah4 f7vcsfb0 discj3wi\"]')\n",
    "work_education_informations = [i.get_attribute('innerText') for i in work_education_element]\n",
    "work_education_informations"
   ]
  },
  {
   "cell_type": "markdown",
   "id": "170f594f-a6cb-4f3f-b208-38ab2900160e",
   "metadata": {},
   "source": [
    "# main loop "
   ]
  },
  {
   "cell_type": "code",
   "execution_count": 110,
   "id": "fdc40874-f401-4616-a8fa-1e9fe798fdb2",
   "metadata": {},
   "outputs": [
    {
     "name": "stderr",
     "output_type": "stream",
     "text": [
      "100%|██████████████████████████████████████████████████████████████████████████████████| 18/18 [01:41<00:00,  5.62s/it]\n"
     ]
    }
   ],
   "source": [
    "from tqdm import tqdm \n",
    "work_and_education = []\n",
    "for profile_url in tqdm(profile_urls):\n",
    "    driver.get(profile_url)\n",
    "    about_url = profile_url+'/about/'\n",
    "    driver.get(about_url)\n",
    "    work_and_education_link = profile_url+'/about_work_and_education/'\n",
    "    driver.get(work_and_education_link)\n",
    "    \n",
    "    try:\n",
    "       # work and education details \n",
    "        work_education_element = driver.find_elements(By.CSS_SELECTOR,'div[class=\"dati1w0a tu1s4ah4 f7vcsfb0 discj3wi\"]')\n",
    "        work_education_info = [i.get_attribute('innerText') for i in work_education_element] \n",
    "        work_and_education.append(work_education_info[0])\n",
    "    except: \n",
    "        work_and_education.append('nan')"
   ]
  },
  {
   "cell_type": "code",
   "execution_count": 111,
   "id": "2571abf4-8e55-4c6a-884b-511e2b88d666",
   "metadata": {},
   "outputs": [
    {
     "data": {
      "text/html": [
       "<div>\n",
       "<style scoped>\n",
       "    .dataframe tbody tr th:only-of-type {\n",
       "        vertical-align: middle;\n",
       "    }\n",
       "\n",
       "    .dataframe tbody tr th {\n",
       "        vertical-align: top;\n",
       "    }\n",
       "\n",
       "    .dataframe thead th {\n",
       "        text-align: right;\n",
       "    }\n",
       "</style>\n",
       "<table border=\"1\" class=\"dataframe\">\n",
       "  <thead>\n",
       "    <tr style=\"text-align: right;\">\n",
       "      <th></th>\n",
       "      <th>profile_url</th>\n",
       "      <th>work_education</th>\n",
       "    </tr>\n",
       "  </thead>\n",
       "  <tbody>\n",
       "    <tr>\n",
       "      <th>0</th>\n",
       "      <td>https://www.facebook.com/charles.kalapurackal</td>\n",
       "      <td>Work\\nProject Manager at The Home Depot\\nJanua...</td>\n",
       "    </tr>\n",
       "    <tr>\n",
       "      <th>1</th>\n",
       "      <td>https://www.facebook.com/richu.blessan</td>\n",
       "      <td>Work\\nNo workplaces to show\\nUniversity\\nNo sc...</td>\n",
       "    </tr>\n",
       "    <tr>\n",
       "      <th>2</th>\n",
       "      <td>https://www.facebook.com/liya.joseph.758</td>\n",
       "      <td>Work\\nNo workplaces to show\\nUniversity\\nStudi...</td>\n",
       "    </tr>\n",
       "    <tr>\n",
       "      <th>3</th>\n",
       "      <td>https://www.facebook.com/tissy.joseph.73</td>\n",
       "      <td>Work\\nNo workplaces to show\\nUniversity\\nNo sc...</td>\n",
       "    </tr>\n",
       "    <tr>\n",
       "      <th>4</th>\n",
       "      <td>https://www.facebook.com/jllson.cr7</td>\n",
       "      <td>Work\\nNo workplaces to show\\nUniversity\\nStudi...</td>\n",
       "    </tr>\n",
       "    <tr>\n",
       "      <th>5</th>\n",
       "      <td>https://www.facebook.com/rinku.jose.50</td>\n",
       "      <td>Work\\nMember of Technical Staff at Advanced Mi...</td>\n",
       "    </tr>\n",
       "    <tr>\n",
       "      <th>6</th>\n",
       "      <td>https://www.facebook.com/roshan.blessan</td>\n",
       "      <td>Work\\nWorks at Arcadis\\n15 November 2021 - Pre...</td>\n",
       "    </tr>\n",
       "    <tr>\n",
       "      <th>7</th>\n",
       "      <td>https://www.facebook.com/chinz.prinz</td>\n",
       "      <td>Work\\nCasualty Medical Officer at Welcare Hosp...</td>\n",
       "    </tr>\n",
       "    <tr>\n",
       "      <th>8</th>\n",
       "      <td>https://www.facebook.com/bobybose</td>\n",
       "      <td>Work\\nNursing\\nFormer Sr Staff nurse at pmsa m...</td>\n",
       "    </tr>\n",
       "    <tr>\n",
       "      <th>9</th>\n",
       "      <td>https://www.facebook.com/Sam.Julian1234</td>\n",
       "      <td>Work\\nFormer Member Service Representative at ...</td>\n",
       "    </tr>\n",
       "    <tr>\n",
       "      <th>10</th>\n",
       "      <td>https://www.facebook.com/tigy.binoy.9</td>\n",
       "      <td>Work\\nNo workplaces to show\\nUniversity\\nNo sc...</td>\n",
       "    </tr>\n",
       "    <tr>\n",
       "      <th>11</th>\n",
       "      <td>https://www.facebook.com/jithin.john.3766</td>\n",
       "      <td>Work\\nWorked at M-Tech -Tkm college of enginee...</td>\n",
       "    </tr>\n",
       "    <tr>\n",
       "      <th>12</th>\n",
       "      <td>https://www.facebook.com/FrancisMathewN</td>\n",
       "      <td>Work\\nVice President at Goldman Sachs\\nJanuary...</td>\n",
       "    </tr>\n",
       "    <tr>\n",
       "      <th>13</th>\n",
       "      <td>https://www.facebook.com/binuscot</td>\n",
       "      <td>Work\\nNo workplaces to show\\nUniversity\\nNo sc...</td>\n",
       "    </tr>\n",
       "    <tr>\n",
       "      <th>14</th>\n",
       "      <td>https://www.facebook.com/cebin.mathew</td>\n",
       "      <td>Work\\nNo workplaces to show\\nUniversity\\nStudi...</td>\n",
       "    </tr>\n",
       "    <tr>\n",
       "      <th>15</th>\n",
       "      <td>https://www.facebook.com/vimal.kalapurackal</td>\n",
       "      <td>Work\\nOperations Manager at Pacific Hospitalit...</td>\n",
       "    </tr>\n",
       "    <tr>\n",
       "      <th>16</th>\n",
       "      <td>https://www.facebook.com/jebin.mathew.14</td>\n",
       "      <td>Work\\nNo workplaces to show\\nUniversity\\nNo sc...</td>\n",
       "    </tr>\n",
       "    <tr>\n",
       "      <th>17</th>\n",
       "      <td>https://www.facebook.com/belle.bose</td>\n",
       "      <td>Work\\nManager-HR and Hub Operations at Orderfl...</td>\n",
       "    </tr>\n",
       "  </tbody>\n",
       "</table>\n",
       "</div>"
      ],
      "text/plain": [
       "                                      profile_url  \\\n",
       "0   https://www.facebook.com/charles.kalapurackal   \n",
       "1          https://www.facebook.com/richu.blessan   \n",
       "2        https://www.facebook.com/liya.joseph.758   \n",
       "3        https://www.facebook.com/tissy.joseph.73   \n",
       "4             https://www.facebook.com/jllson.cr7   \n",
       "5          https://www.facebook.com/rinku.jose.50   \n",
       "6         https://www.facebook.com/roshan.blessan   \n",
       "7            https://www.facebook.com/chinz.prinz   \n",
       "8               https://www.facebook.com/bobybose   \n",
       "9         https://www.facebook.com/Sam.Julian1234   \n",
       "10          https://www.facebook.com/tigy.binoy.9   \n",
       "11      https://www.facebook.com/jithin.john.3766   \n",
       "12        https://www.facebook.com/FrancisMathewN   \n",
       "13              https://www.facebook.com/binuscot   \n",
       "14          https://www.facebook.com/cebin.mathew   \n",
       "15    https://www.facebook.com/vimal.kalapurackal   \n",
       "16       https://www.facebook.com/jebin.mathew.14   \n",
       "17            https://www.facebook.com/belle.bose   \n",
       "\n",
       "                                       work_education  \n",
       "0   Work\\nProject Manager at The Home Depot\\nJanua...  \n",
       "1   Work\\nNo workplaces to show\\nUniversity\\nNo sc...  \n",
       "2   Work\\nNo workplaces to show\\nUniversity\\nStudi...  \n",
       "3   Work\\nNo workplaces to show\\nUniversity\\nNo sc...  \n",
       "4   Work\\nNo workplaces to show\\nUniversity\\nStudi...  \n",
       "5   Work\\nMember of Technical Staff at Advanced Mi...  \n",
       "6   Work\\nWorks at Arcadis\\n15 November 2021 - Pre...  \n",
       "7   Work\\nCasualty Medical Officer at Welcare Hosp...  \n",
       "8   Work\\nNursing\\nFormer Sr Staff nurse at pmsa m...  \n",
       "9   Work\\nFormer Member Service Representative at ...  \n",
       "10  Work\\nNo workplaces to show\\nUniversity\\nNo sc...  \n",
       "11  Work\\nWorked at M-Tech -Tkm college of enginee...  \n",
       "12  Work\\nVice President at Goldman Sachs\\nJanuary...  \n",
       "13  Work\\nNo workplaces to show\\nUniversity\\nNo sc...  \n",
       "14  Work\\nNo workplaces to show\\nUniversity\\nStudi...  \n",
       "15  Work\\nOperations Manager at Pacific Hospitalit...  \n",
       "16  Work\\nNo workplaces to show\\nUniversity\\nNo sc...  \n",
       "17  Work\\nManager-HR and Hub Operations at Orderfl...  "
      ]
     },
     "execution_count": 111,
     "metadata": {},
     "output_type": "execute_result"
    }
   ],
   "source": [
    "import pandas as pd \n",
    "df = pd.DataFrame({\n",
    "    \"profile_url\":profile_urls,\n",
    "    \"work_education\":work_and_education\n",
    "    })\n",
    "df"
   ]
  },
  {
   "cell_type": "code",
   "execution_count": 119,
   "id": "c9caf143-dd30-4b47-a5b8-85f1ef7c54b1",
   "metadata": {},
   "outputs": [
    {
     "name": "stdout",
     "output_type": "stream",
     "text": [
      "Work\n",
      "Project Manager at The Home Depot\n",
      "January 2018 - Present\n",
      "·\n",
      "Toronto, Ontario\n",
      "Former Project Manager at Applexus\n",
      "May 2015 - November 2017\n",
      "·\n",
      "Trivandrum, India\n",
      "Former Operations Manager at Tryzens\n",
      "June 2010 - June 2015\n",
      "·\n",
      "London, United Kingdom\n",
      "www.tryzens.com\n",
      "Former Systems Engineer at Infosys\n",
      "November 2007 - June 2010\n",
      "www.infosys.com\n",
      "University\n",
      "Studied Electronics and Communication engineering at Federal Institute of Science And Technology\n",
      "School year 2007\n",
      "High School\n",
      "Went to Kristu Jyothi E.H.S, Kottayam\n",
      "Went to BMM Senior secondary school, Kottayam\n"
     ]
    }
   ],
   "source": [
    "print(df.work_education[0])"
   ]
  },
  {
   "cell_type": "code",
   "execution_count": 160,
   "id": "66a7c7e1-a8e5-4470-a683-11547164f1b3",
   "metadata": {},
   "outputs": [
    {
     "data": {
      "text/plain": [
       "'\\nUniversity\\nStudied Electronics and Communication engineering at Federal Institute of Science And Technology\\nSchool year 2007\\nHigh School\\nWent to Kristu Jyothi E.H.S, Kottayam\\nWent to BMM Senior secondary school, Kottayam'"
      ]
     },
     "execution_count": 160,
     "metadata": {},
     "output_type": "execute_result"
    }
   ],
   "source": [
    "text = df.work_education[0]\n",
    "pattern = re.compile(r'\\nUniversity\\n')\n",
    "span = pattern.search(text).span()\n",
    "university_details = text[span[0]:]\n",
    "university_details"
   ]
  },
  {
   "cell_type": "code",
   "execution_count": 1,
   "id": "5f487aee-5d5a-4931-bee3-0b7bd37ec873",
   "metadata": {},
   "outputs": [
    {
     "data": {
      "text/plain": [
       "True"
      ]
     },
     "execution_count": 1,
     "metadata": {},
     "output_type": "execute_result"
    }
   ],
   "source": [
    "bool('nan')"
   ]
  },
  {
   "cell_type": "code",
   "execution_count": null,
   "id": "b05210ce",
   "metadata": {},
   "outputs": [],
   "source": []
  }
 ],
 "metadata": {
  "kernelspec": {
   "display_name": "Python 3 (ipykernel)",
   "language": "python",
   "name": "python3"
  },
  "language_info": {
   "codemirror_mode": {
    "name": "ipython",
    "version": 3
   },
   "file_extension": ".py",
   "mimetype": "text/x-python",
   "name": "python",
   "nbconvert_exporter": "python",
   "pygments_lexer": "ipython3",
   "version": "3.9.7"
  }
 },
 "nbformat": 4,
 "nbformat_minor": 5
}
